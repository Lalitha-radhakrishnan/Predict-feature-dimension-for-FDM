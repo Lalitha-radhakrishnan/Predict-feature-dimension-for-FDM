{
 "cells": [
  {
   "cell_type": "code",
   "execution_count": 1,
   "id": "52a799df",
   "metadata": {},
   "outputs": [],
   "source": [
    "# Import machine learning libraries\n",
    "import numpy as np\n",
    "import pandas as pd\n",
    "import scipy.stats as stats\n",
    "import seaborn as sns\n",
    "# To enable plotting graphs in Jupyter notebook\n",
    "import matplotlib.pyplot as plt\n",
    "%matplotlib inline \n",
    "import warnings\n",
    "warnings.filterwarnings('ignore')\n",
    "import statsmodels.api as sm\n",
    "\n",
    "from sklearn import metrics\n",
    "from sklearn.linear_model import LogisticRegression\n",
    "from sklearn.model_selection import train_test_split\n",
    "from sklearn.linear_model import Ridge\n",
    "from sklearn.linear_model import Lasso\n",
    "\n",
    "from sklearn.metrics import r2_score\n",
    "\n",
    "from sklearn.linear_model import LinearRegression\n",
    "from sklearn import linear_model\n",
    "from sklearn.preprocessing import StandardScaler\n",
    "from sklearn.ensemble import RandomForestClassifier\n",
    "from sklearn.tree import DecisionTreeClassifier\n",
    "from sklearn import preprocessing\n",
    "from sklearn.preprocessing import MinMaxScaler\n",
    "from tabulate import tabulate\n",
    "from sklearn.ensemble import RandomForestRegressor\n",
    "from xgboost import XGBRegressor\n",
    "from sklearn.ensemble import VotingRegressor"
   ]
  },
  {
   "cell_type": "code",
   "execution_count": 2,
   "id": "69595e30",
   "metadata": {},
   "outputs": [],
   "source": [
    "from beautifultable import BeautifulTable\n",
    "table = BeautifulTable()\n",
    "table.column_headers = [\"Model Name\", \"r2\", \"RMSE\"]"
   ]
  },
  {
   "cell_type": "code",
   "execution_count": 3,
   "id": "ff01799f",
   "metadata": {},
   "outputs": [
    {
     "data": {
      "text/html": [
       "<div>\n",
       "<style scoped>\n",
       "    .dataframe tbody tr th:only-of-type {\n",
       "        vertical-align: middle;\n",
       "    }\n",
       "\n",
       "    .dataframe tbody tr th {\n",
       "        vertical-align: top;\n",
       "    }\n",
       "\n",
       "    .dataframe thead th {\n",
       "        text-align: right;\n",
       "    }\n",
       "</style>\n",
       "<table border=\"1\" class=\"dataframe\">\n",
       "  <thead>\n",
       "    <tr style=\"text-align: right;\">\n",
       "      <th></th>\n",
       "      <th>X</th>\n",
       "      <th>T</th>\n",
       "      <th>L</th>\n",
       "      <th>N</th>\n",
       "      <th>Y</th>\n",
       "    </tr>\n",
       "  </thead>\n",
       "  <tbody>\n",
       "    <tr>\n",
       "      <th>0</th>\n",
       "      <td>6</td>\n",
       "      <td>235</td>\n",
       "      <td>100</td>\n",
       "      <td>25</td>\n",
       "      <td>5.997</td>\n",
       "    </tr>\n",
       "    <tr>\n",
       "      <th>1</th>\n",
       "      <td>6</td>\n",
       "      <td>235</td>\n",
       "      <td>150</td>\n",
       "      <td>50</td>\n",
       "      <td>5.881</td>\n",
       "    </tr>\n",
       "    <tr>\n",
       "      <th>2</th>\n",
       "      <td>6</td>\n",
       "      <td>235</td>\n",
       "      <td>200</td>\n",
       "      <td>75</td>\n",
       "      <td>6.026</td>\n",
       "    </tr>\n",
       "    <tr>\n",
       "      <th>3</th>\n",
       "      <td>6</td>\n",
       "      <td>240</td>\n",
       "      <td>100</td>\n",
       "      <td>50</td>\n",
       "      <td>5.835</td>\n",
       "    </tr>\n",
       "    <tr>\n",
       "      <th>4</th>\n",
       "      <td>6</td>\n",
       "      <td>240</td>\n",
       "      <td>150</td>\n",
       "      <td>75</td>\n",
       "      <td>5.917</td>\n",
       "    </tr>\n",
       "    <tr>\n",
       "      <th>5</th>\n",
       "      <td>6</td>\n",
       "      <td>240</td>\n",
       "      <td>200</td>\n",
       "      <td>25</td>\n",
       "      <td>5.717</td>\n",
       "    </tr>\n",
       "    <tr>\n",
       "      <th>6</th>\n",
       "      <td>6</td>\n",
       "      <td>245</td>\n",
       "      <td>100</td>\n",
       "      <td>75</td>\n",
       "      <td>5.939</td>\n",
       "    </tr>\n",
       "    <tr>\n",
       "      <th>7</th>\n",
       "      <td>6</td>\n",
       "      <td>245</td>\n",
       "      <td>150</td>\n",
       "      <td>25</td>\n",
       "      <td>6.851</td>\n",
       "    </tr>\n",
       "    <tr>\n",
       "      <th>8</th>\n",
       "      <td>6</td>\n",
       "      <td>245</td>\n",
       "      <td>200</td>\n",
       "      <td>50</td>\n",
       "      <td>5.983</td>\n",
       "    </tr>\n",
       "    <tr>\n",
       "      <th>9</th>\n",
       "      <td>4</td>\n",
       "      <td>235</td>\n",
       "      <td>100</td>\n",
       "      <td>25</td>\n",
       "      <td>4.050</td>\n",
       "    </tr>\n",
       "  </tbody>\n",
       "</table>\n",
       "</div>"
      ],
      "text/plain": [
       "   X    T    L   N      Y\n",
       "0  6  235  100  25  5.997\n",
       "1  6  235  150  50  5.881\n",
       "2  6  235  200  75  6.026\n",
       "3  6  240  100  50  5.835\n",
       "4  6  240  150  75  5.917\n",
       "5  6  240  200  25  5.717\n",
       "6  6  245  100  75  5.939\n",
       "7  6  245  150  25  6.851\n",
       "8  6  245  200  50  5.983\n",
       "9  4  235  100  25  4.050"
      ]
     },
     "execution_count": 3,
     "metadata": {},
     "output_type": "execute_result"
    }
   ],
   "source": [
    "ht = pd.read_csv(\"height.csv\")\n",
    "ht.head(10)"
   ]
  },
  {
   "cell_type": "code",
   "execution_count": 4,
   "id": "fcd75db9",
   "metadata": {},
   "outputs": [
    {
     "name": "stdout",
     "output_type": "stream",
     "text": [
      "<class 'pandas.core.frame.DataFrame'>\n",
      "RangeIndex: 216 entries, 0 to 215\n",
      "Data columns (total 5 columns):\n",
      " #   Column  Non-Null Count  Dtype  \n",
      "---  ------  --------------  -----  \n",
      " 0   X       216 non-null    int64  \n",
      " 1   T       216 non-null    int64  \n",
      " 2   L       216 non-null    int64  \n",
      " 3   N       216 non-null    int64  \n",
      " 4   Y       216 non-null    float64\n",
      "dtypes: float64(1), int64(4)\n",
      "memory usage: 8.6 KB\n"
     ]
    }
   ],
   "source": [
    "ht.info()"
   ]
  },
  {
   "cell_type": "code",
   "execution_count": 5,
   "id": "38a7dca4",
   "metadata": {},
   "outputs": [
    {
     "data": {
      "text/html": [
       "<div>\n",
       "<style scoped>\n",
       "    .dataframe tbody tr th:only-of-type {\n",
       "        vertical-align: middle;\n",
       "    }\n",
       "\n",
       "    .dataframe tbody tr th {\n",
       "        vertical-align: top;\n",
       "    }\n",
       "\n",
       "    .dataframe thead th {\n",
       "        text-align: right;\n",
       "    }\n",
       "</style>\n",
       "<table border=\"1\" class=\"dataframe\">\n",
       "  <thead>\n",
       "    <tr style=\"text-align: right;\">\n",
       "      <th></th>\n",
       "      <th>count</th>\n",
       "      <th>mean</th>\n",
       "      <th>std</th>\n",
       "      <th>min</th>\n",
       "      <th>25%</th>\n",
       "      <th>50%</th>\n",
       "      <th>75%</th>\n",
       "      <th>max</th>\n",
       "    </tr>\n",
       "  </thead>\n",
       "  <tbody>\n",
       "    <tr>\n",
       "      <th>X</th>\n",
       "      <td>216.0</td>\n",
       "      <td>5.009259</td>\n",
       "      <td>1.988316</td>\n",
       "      <td>2.000</td>\n",
       "      <td>3.75000</td>\n",
       "      <td>5.00</td>\n",
       "      <td>6.0000</td>\n",
       "      <td>10.000</td>\n",
       "    </tr>\n",
       "    <tr>\n",
       "      <th>T</th>\n",
       "      <td>216.0</td>\n",
       "      <td>240.000000</td>\n",
       "      <td>4.091966</td>\n",
       "      <td>235.000</td>\n",
       "      <td>235.00000</td>\n",
       "      <td>240.00</td>\n",
       "      <td>245.0000</td>\n",
       "      <td>245.000</td>\n",
       "    </tr>\n",
       "    <tr>\n",
       "      <th>L</th>\n",
       "      <td>216.0</td>\n",
       "      <td>150.000000</td>\n",
       "      <td>40.919660</td>\n",
       "      <td>100.000</td>\n",
       "      <td>100.00000</td>\n",
       "      <td>150.00</td>\n",
       "      <td>200.0000</td>\n",
       "      <td>200.000</td>\n",
       "    </tr>\n",
       "    <tr>\n",
       "      <th>N</th>\n",
       "      <td>216.0</td>\n",
       "      <td>50.000000</td>\n",
       "      <td>20.459830</td>\n",
       "      <td>25.000</td>\n",
       "      <td>25.00000</td>\n",
       "      <td>50.00</td>\n",
       "      <td>75.0000</td>\n",
       "      <td>75.000</td>\n",
       "    </tr>\n",
       "    <tr>\n",
       "      <th>Y</th>\n",
       "      <td>216.0</td>\n",
       "      <td>4.908958</td>\n",
       "      <td>2.036522</td>\n",
       "      <td>1.546</td>\n",
       "      <td>3.36675</td>\n",
       "      <td>4.91</td>\n",
       "      <td>6.0105</td>\n",
       "      <td>10.511</td>\n",
       "    </tr>\n",
       "  </tbody>\n",
       "</table>\n",
       "</div>"
      ],
      "text/plain": [
       "   count        mean        std      min        25%     50%       75%      max\n",
       "X  216.0    5.009259   1.988316    2.000    3.75000    5.00    6.0000   10.000\n",
       "T  216.0  240.000000   4.091966  235.000  235.00000  240.00  245.0000  245.000\n",
       "L  216.0  150.000000  40.919660  100.000  100.00000  150.00  200.0000  200.000\n",
       "N  216.0   50.000000  20.459830   25.000   25.00000   50.00   75.0000   75.000\n",
       "Y  216.0    4.908958   2.036522    1.546    3.36675    4.91    6.0105   10.511"
      ]
     },
     "execution_count": 5,
     "metadata": {},
     "output_type": "execute_result"
    }
   ],
   "source": [
    "ht.describe().T"
   ]
  },
  {
   "cell_type": "code",
   "execution_count": 6,
   "id": "03a1e5ac",
   "metadata": {},
   "outputs": [],
   "source": [
    "X = ht.drop(\"Y\", axis=1)\n",
    "y = ht[\"Y\"]"
   ]
  },
  {
   "cell_type": "markdown",
   "id": "d0fbc038",
   "metadata": {},
   "source": [
    "# Scaling"
   ]
  },
  {
   "cell_type": "code",
   "execution_count": 7,
   "id": "e9d97c2b",
   "metadata": {},
   "outputs": [],
   "source": [
    "scaler = MinMaxScaler() \n",
    "x_scaled = scaler.fit_transform(X)\n",
    "X = pd.DataFrame(x_scaled)\n",
    "test_size = 0.3 \n",
    "seed = 7  # Random number seeding for reapeatability of the code\n",
    "X_train, X_test, y_train, y_test = train_test_split(X, y, test_size=test_size, random_state=seed)\n",
    "\n"
   ]
  },
  {
   "cell_type": "markdown",
   "id": "a5d96279",
   "metadata": {},
   "source": [
    "# Model Building - Regression"
   ]
  },
  {
   "cell_type": "code",
   "execution_count": 8,
   "id": "f9b01c09",
   "metadata": {},
   "outputs": [
    {
     "name": "stdout",
     "output_type": "stream",
     "text": [
      "Linear Regression Score:  0.9861\n"
     ]
    }
   ],
   "source": [
    "regression_model = LinearRegression()\n",
    "regression_model.fit(X,y)\n",
    "lin_score = \"%.4f\" % regression_model.score(X_test, y_test)\n",
    "print(\"Linear Regression Score: \",lin_score)"
   ]
  },
  {
   "cell_type": "code",
   "execution_count": 9,
   "id": "625692e1",
   "metadata": {},
   "outputs": [
    {
     "data": {
      "text/plain": [
       "array([ 8.13474669, -0.05116231, -0.07275954,  0.01644444])"
      ]
     },
     "execution_count": 9,
     "metadata": {},
     "output_type": "execute_result"
    }
   ],
   "source": [
    "regression_model.coef_"
   ]
  },
  {
   "cell_type": "code",
   "execution_count": 10,
   "id": "62ab4748",
   "metadata": {},
   "outputs": [
    {
     "data": {
      "text/plain": [
       "1.9027518129757142"
      ]
     },
     "execution_count": 10,
     "metadata": {},
     "output_type": "execute_result"
    }
   ],
   "source": [
    "regression_model.intercept_\n"
   ]
  },
  {
   "cell_type": "code",
   "execution_count": 11,
   "id": "8e9960a9",
   "metadata": {},
   "outputs": [
    {
     "data": {
      "text/plain": [
       "0.21721437052323514"
      ]
     },
     "execution_count": 11,
     "metadata": {},
     "output_type": "execute_result"
    }
   ],
   "source": [
    "regression_model.predict(X_test)\n",
    "y_pred = regression_model.predict(X_test)\n",
    "np.sqrt(metrics.mean_squared_error(y_test, y_pred))"
   ]
  },
  {
   "cell_type": "code",
   "execution_count": 12,
   "id": "4bb40049",
   "metadata": {},
   "outputs": [
    {
     "name": "stdout",
     "output_type": "stream",
     "text": [
      "0.9853359028669639\n",
      "0.986146504275886\n"
     ]
    }
   ],
   "source": [
    "print(regression_model.score(X_train, y_train))\n",
    "print(regression_model.score(X_test, y_test))"
   ]
  },
  {
   "cell_type": "code",
   "execution_count": 13,
   "id": "48c18c74",
   "metadata": {},
   "outputs": [],
   "source": [
    "class CompareModel:\n",
    "    def __init__(self):\n",
    "        import pandas as pd\n",
    "        self._models = pd.DataFrame(\n",
    "            data=['r', 'R^2', 'RMSE'],\n",
    "            columns=['Model']\n",
    "        ).set_index(keys='Model')\n",
    "        \n",
    "    def add(self, model_name, y_test, y_pred):\n",
    "        import numpy as np\n",
    "        self._models[model_name] = np.array(\n",
    "            object=[\n",
    "                np.corrcoef(y_test, y_pred)[0, 1], # r\n",
    "                r2_score(y_true=y_test, y_pred=y_pred), # R^2\n",
    "                np.sqrt(mean_squared_error(y_true=y_test, y_pred=y_pred)) # RMSE\n",
    "                #np.sqrt(np.mean(((y_test-y_pred)/y_test)**2)), # RMSRE\n",
    "                #np.mean(np.abs((y_test-y_pred) / y_test)) * 100 # MAPE\n",
    "            ]\n",
    "        )\n",
    "        \n",
    "    def R2AndRMSE(y_test, y_pred):\n",
    "        from sklearn.metrics import r2_score, mean_squared_error\n",
    "        return r2_score(y_true=y_test, y_pred=y_pred), np.sqrt(mean_squared_error(y_true=y_test, y_pred=y_pred))\n",
    "    \n",
    "    @property\n",
    "    def models(self):\n",
    "        return self._models\n",
    "    \n",
    "    @models.setter\n",
    "    def models(self, _):\n",
    "        print('Cannot perform such task.')\n",
    "    \n",
    "    def show(self, **kwargs):\n",
    "        import matplotlib.pyplot as plt\n",
    "        kwargs['marker'] = kwargs.get('marker', 'X')\n",
    "        self._models.plot(**kwargs)\n",
    "        plt.xticks(range(len(self._models)), self._models.index)\n",
    "        plt.xlabel('')\n",
    "        plt.axis('auto')\n",
    "        plt.show()"
   ]
  },
  {
   "cell_type": "code",
   "execution_count": 14,
   "id": "34e7ab61",
   "metadata": {},
   "outputs": [
    {
     "data": {
      "text/plain": [
       "0.21721437052323514"
      ]
     },
     "execution_count": 14,
     "metadata": {},
     "output_type": "execute_result"
    }
   ],
   "source": [
    "# Metrics\n",
    "lr= CompareModel.R2AndRMSE(y_test=y_test, y_pred=y_pred)\n",
    "lr_r2 = r2_score(y_true=y_test, y_pred=y_pred)\n",
    "lr_r2\n",
    "\n",
    "from sklearn.metrics import r2_score, mean_squared_error\n",
    "lr_rmse = np.sqrt(mean_squared_error(y_true=y_test, y_pred=y_pred))\n",
    "lr_rmse"
   ]
  },
  {
   "cell_type": "code",
   "execution_count": 15,
   "id": "fe31bee1",
   "metadata": {},
   "outputs": [
    {
     "name": "stdout",
     "output_type": "stream",
     "text": [
      "+-------------------+-------+-------+\n",
      "|    Model Name     |  r2   | RMSE  |\n",
      "+-------------------+-------+-------+\n",
      "| Linear Regression | 0.986 | 0.217 |\n",
      "+-------------------+-------+-------+\n"
     ]
    }
   ],
   "source": [
    "from beautifultable import BeautifulTable\n",
    "table = BeautifulTable()\n",
    "table.column_headers = [\"Model Name\", \"r2\", \"RMSE\"]\n",
    "\n",
    "table1 = table.append_row([\"Linear Regression\", lr_r2,lr_rmse])\n",
    "print(table)"
   ]
  },
  {
   "cell_type": "code",
   "execution_count": 16,
   "id": "ae4b79d1",
   "metadata": {},
   "outputs": [
    {
     "data": {
      "image/png": "[encoded data removed]",
      "text/plain": [
       "<Figure size 720x360 with 1 Axes>"
      ]
     },
     "metadata": {
      "needs_background": "light"
     },
     "output_type": "display_data"
    }
   ],
   "source": [
    "plot = CompareModel()\n",
    "from sklearn.metrics import r2_score, mean_squared_error\n",
    "plot.add(model_name='Linear Regression', y_test=y_test, y_pred=y_pred)\n",
    "plot.show(figsize=(10, 5))"
   ]
  },
  {
   "cell_type": "markdown",
   "id": "4022c52f",
   "metadata": {},
   "source": [
    "# Lasso"
   ]
  },
  {
   "cell_type": "code",
   "execution_count": 17,
   "id": "9c6a74fb",
   "metadata": {},
   "outputs": [
    {
     "data": {
      "text/plain": [
       "(0.9598546804831386, 0.36976544715695164)"
      ]
     },
     "execution_count": 17,
     "metadata": {},
     "output_type": "execute_result"
    }
   ],
   "source": [
    "# Fitting training set to lasso regression model\n",
    "from sklearn.linear_model import Lasso\n",
    "\n",
    "\n",
    "lasso = Lasso(alpha=0.1)\n",
    "lasso.fit(X_train,y_train)\n",
    "\n",
    "\n",
    "# Predicting the yield\n",
    "y_pred = lasso.predict(X_test)\n",
    "\n",
    "CompareModel.R2AndRMSE(y_test=y_test, y_pred=y_pred)"
   ]
  },
  {
   "cell_type": "code",
   "execution_count": 18,
   "id": "280d9af7",
   "metadata": {},
   "outputs": [
    {
     "name": "stdout",
     "output_type": "stream",
     "text": [
      "+-------------------+-------+-------+\n",
      "|    Model Name     |  r2   | RMSE  |\n",
      "+-------------------+-------+-------+\n",
      "| Linear Regression | 0.986 | 0.217 |\n",
      "+-------------------+-------+-------+\n",
      "|       Lasso       | 0.96  | 0.37  |\n",
      "+-------------------+-------+-------+\n"
     ]
    }
   ],
   "source": [
    "lasso_r2 = r2_score(y_true=y_test, y_pred=y_pred)\n",
    "lasso_rmse = np.sqrt(mean_squared_error(y_true=y_test, y_pred=y_pred))\n",
    "\n",
    "table.append_row([\"Lasso\", lasso_r2,lasso_rmse])\n",
    "print(table)"
   ]
  },
  {
   "cell_type": "code",
   "execution_count": 19,
   "id": "a1b245d8",
   "metadata": {},
   "outputs": [
    {
     "data": {
      "image/png": "[encoded data removed]",
      "text/plain": [
       "<Figure size 360x360 with 1 Axes>"
      ]
     },
     "metadata": {
      "needs_background": "light"
     },
     "output_type": "display_data"
    }
   ],
   "source": [
    "plot.add('Lasso', y_test, y_pred)\n",
    "plot.show(figsize=(5, 5))"
   ]
  },
  {
   "cell_type": "markdown",
   "id": "610c7d37",
   "metadata": {},
   "source": [
    "# Ridge"
   ]
  },
  {
   "cell_type": "code",
   "execution_count": 20,
   "id": "64dd40ca",
   "metadata": {},
   "outputs": [
    {
     "data": {
      "text/plain": [
       "(0.9855566748131518, 0.22179025549575462)"
      ]
     },
     "execution_count": 20,
     "metadata": {},
     "output_type": "execute_result"
    }
   ],
   "source": [
    "from sklearn.linear_model import Ridge\n",
    "ridge = Ridge(alpha=.1)\n",
    "ridge.fit(X_train,y_train)\n",
    "y_pred = ridge.predict(X_test)\n",
    "\n",
    "\n",
    "CompareModel.R2AndRMSE(y_test=y_test, y_pred=y_pred)"
   ]
  },
  {
   "cell_type": "code",
   "execution_count": 21,
   "id": "e549b262",
   "metadata": {},
   "outputs": [
    {
     "name": "stdout",
     "output_type": "stream",
     "text": [
      "+-------------------+-------+-------+\n",
      "|    Model Name     |  r2   | RMSE  |\n",
      "+-------------------+-------+-------+\n",
      "| Linear Regression | 0.986 | 0.217 |\n",
      "+-------------------+-------+-------+\n",
      "|       Lasso       | 0.96  | 0.37  |\n",
      "+-------------------+-------+-------+\n",
      "|       Ridge       | 0.986 | 0.222 |\n",
      "+-------------------+-------+-------+\n"
     ]
    }
   ],
   "source": [
    "ridge_r2 = r2_score(y_true=y_test, y_pred=y_pred)\n",
    "ridge_rmse = np.sqrt(mean_squared_error(y_true=y_test, y_pred=y_pred))\n",
    "\n",
    "table.append_row([\"Ridge\", ridge_r2,ridge_rmse])\n",
    "print(table)"
   ]
  },
  {
   "cell_type": "code",
   "execution_count": 22,
   "id": "869c34fb",
   "metadata": {},
   "outputs": [
    {
     "data": {
      "image/png": "[encoded data removed]",
      "text/plain": [
       "<Figure size 360x360 with 1 Axes>"
      ]
     },
     "metadata": {
      "needs_background": "light"
     },
     "output_type": "display_data"
    }
   ],
   "source": [
    "plot.add('Ridge', y_test, y_pred)\n",
    "plot.show(figsize=(5, 5))"
   ]
  },
  {
   "cell_type": "markdown",
   "id": "ebdc38da",
   "metadata": {},
   "source": [
    "# Random Forest"
   ]
  },
  {
   "cell_type": "code",
   "execution_count": 23,
   "id": "c16ae59f",
   "metadata": {},
   "outputs": [
    {
     "data": {
      "text/plain": [
       "(0.9797779819052493, 0.262434612671727)"
      ]
     },
     "execution_count": 23,
     "metadata": {},
     "output_type": "execute_result"
    }
   ],
   "source": [
    "# Fitting Random Forest model to the dataset\n",
    "from sklearn.ensemble import RandomForestRegressor\n",
    "rfr = RandomForestRegressor(n_estimators=10, random_state=10, n_jobs=-1)\n",
    "rfr.fit(X_train, y_train)\n",
    "\n",
    "# Predicting the yield\n",
    "y_pred = rfr.predict(X_test)\n",
    "\n",
    "CompareModel.R2AndRMSE(y_test=y_test, y_pred=y_pred)"
   ]
  },
  {
   "cell_type": "code",
   "execution_count": 24,
   "id": "4ae57dc3",
   "metadata": {},
   "outputs": [
    {
     "name": "stdout",
     "output_type": "stream",
     "text": [
      "+-------------------+-------+-------+\n",
      "|    Model Name     |  r2   | RMSE  |\n",
      "+-------------------+-------+-------+\n",
      "| Linear Regression | 0.986 | 0.217 |\n",
      "+-------------------+-------+-------+\n",
      "|       Lasso       | 0.96  | 0.37  |\n",
      "+-------------------+-------+-------+\n",
      "|       Ridge       | 0.986 | 0.222 |\n",
      "+-------------------+-------+-------+\n",
      "|   Random Forest   | 0.98  | 0.262 |\n",
      "+-------------------+-------+-------+\n"
     ]
    },
    {
     "data": {
      "image/png": "[encoded data removed]",
      "text/plain": [
       "<Figure size 360x360 with 1 Axes>"
      ]
     },
     "metadata": {
      "needs_background": "light"
     },
     "output_type": "display_data"
    }
   ],
   "source": [
    "rf_r2 = r2_score(y_true=y_test, y_pred=y_pred)\n",
    "rf_rmse = np.sqrt(mean_squared_error(y_true=y_test, y_pred=y_pred))\n",
    "table.append_row([\"Random Forest\", rf_r2,rf_rmse])\n",
    "print(table)\n",
    "\n",
    "plot.add('Random Forest', y_test, y_pred)\n",
    "plot.show(figsize=(5, 5))"
   ]
  },
  {
   "cell_type": "markdown",
   "id": "004be125",
   "metadata": {},
   "source": [
    "# XGBoost"
   ]
  },
  {
   "cell_type": "code",
   "execution_count": 25,
   "id": "9b2395ae",
   "metadata": {},
   "outputs": [
    {
     "name": "stdout",
     "output_type": "stream",
     "text": [
      "[07:26:36] WARNING: d:\\bld\\xgboost-split_1645118015404\\work\\src\\objective\\regression_obj.cu:188: reg:linear is now deprecated in favor of reg:squarederror.\n",
      "[07:26:36] WARNING: D:\\bld\\xgboost-split_1645118015404\\work\\src\\learner.cc:576: \n",
      "Parameters: { \"silent\", \"verbose\" } might not be used.\n",
      "\n",
      "  This could be a false alarm, with some parameters getting used by language bindings but\n",
      "  then being mistakenly passed down to XGBoost core, or some parameter actually being used\n",
      "  but getting flagged wrongly here. Please open an issue if you find any such cases.\n",
      "\n",
      "\n"
     ]
    },
    {
     "data": {
      "text/plain": [
       "(0.9817003147688468, 0.2496494860567991)"
      ]
     },
     "execution_count": 25,
     "metadata": {},
     "output_type": "execute_result"
    }
   ],
   "source": [
    "# Fitting XGBoost to the dataset  (reg:squarederror)\n",
    "from xgboost import XGBRegressor\n",
    "xgb = XGBRegressor(n_jobs=4, silent=False, objective='reg:linear',\n",
    "                   max_depth=3, random_state=1, n_estimators=100,\n",
    "                   learning_rate=0.3, verbose=True)\n",
    "xgb.fit(X_train, y_train)\n",
    "\n",
    "# Predicting the yield\n",
    "y_pred = xgb.predict(X_test)\n",
    "\n",
    "CompareModel.R2AndRMSE(y_test=y_test, y_pred=y_pred)"
   ]
  },
  {
   "cell_type": "code",
   "execution_count": 26,
   "id": "e302272f",
   "metadata": {},
   "outputs": [
    {
     "name": "stdout",
     "output_type": "stream",
     "text": [
      "+-------------------+-------+-------+\n",
      "|    Model Name     |  r2   | RMSE  |\n",
      "+-------------------+-------+-------+\n",
      "| Linear Regression | 0.986 | 0.217 |\n",
      "+-------------------+-------+-------+\n",
      "|       Lasso       | 0.96  | 0.37  |\n",
      "+-------------------+-------+-------+\n",
      "|       Ridge       | 0.986 | 0.222 |\n",
      "+-------------------+-------+-------+\n",
      "|   Random Forest   | 0.98  | 0.262 |\n",
      "+-------------------+-------+-------+\n",
      "|      XGBoost      | 0.982 | 0.25  |\n",
      "+-------------------+-------+-------+\n"
     ]
    },
    {
     "data": {
      "image/png": "[encoded data removed]",
      "text/plain": [
       "<Figure size 360x360 with 1 Axes>"
      ]
     },
     "metadata": {
      "needs_background": "light"
     },
     "output_type": "display_data"
    }
   ],
   "source": [
    "XGBoost_r2 = r2_score(y_true=y_test, y_pred=y_pred)\n",
    "XGBoost_rmse = np.sqrt(mean_squared_error(y_true=y_test, y_pred=y_pred))\n",
    "table.append_row([\"XGBoost\", XGBoost_r2,XGBoost_rmse])\n",
    "print(table)\n",
    "\n",
    "plot.add('XGBoost', y_test, y_pred)\n",
    "plot.show(figsize=(5, 5))"
   ]
  },
  {
   "cell_type": "markdown",
   "id": "d380684b",
   "metadata": {},
   "source": [
    "# Voting Regression"
   ]
  },
  {
   "cell_type": "code",
   "execution_count": 27,
   "id": "2555d44a",
   "metadata": {},
   "outputs": [],
   "source": [
    "# Fitting training set to voting regression model\n",
    "from sklearn.ensemble import VotingRegressor\n",
    "vr = VotingRegressor(estimators=[('LinReg', regression_model),\n",
    "                                 ('RanFor', rfr),\n",
    "                                 ('XGBoost', xgb)\n",
    "                                ],\n",
    "                     n_jobs=-1,\n",
    "                     weights=[4, 2, 3])\n",
    "vr.fit(X_train, y_train)\n",
    "\n",
    "# Predicting the yield\n",
    "y_pred = vr.predict(X_test)\n",
    "\n",
    "CompareModel.R2AndRMSE(y_test=y_test, y_pred=y_pred)\n",
    "\n",
    "vr_r2 = r2_score(y_true=y_test, y_pred=y_pred)\n",
    "vr_rmse = np.sqrt(mean_squared_error(y_true=y_test, y_pred=y_pred))"
   ]
  },
  {
   "cell_type": "code",
   "execution_count": 28,
   "id": "27bf70fc",
   "metadata": {},
   "outputs": [
    {
     "name": "stdout",
     "output_type": "stream",
     "text": [
      "+-------------------+-------+-------+\n",
      "|    Model Name     |  r2   | RMSE  |\n",
      "+-------------------+-------+-------+\n",
      "| Linear Regression | 0.986 | 0.217 |\n",
      "+-------------------+-------+-------+\n",
      "|       Lasso       | 0.96  | 0.37  |\n",
      "+-------------------+-------+-------+\n",
      "|       Ridge       | 0.986 | 0.222 |\n",
      "+-------------------+-------+-------+\n",
      "|   Random Forest   | 0.98  | 0.262 |\n",
      "+-------------------+-------+-------+\n",
      "|      XGBoost      | 0.982 | 0.25  |\n",
      "+-------------------+-------+-------+\n",
      "| Voting Regression | 0.985 | 0.227 |\n",
      "+-------------------+-------+-------+\n"
     ]
    },
    {
     "data": {
      "image/png": "[encoded data removed]",
      "text/plain": [
       "<Figure size 360x360 with 1 Axes>"
      ]
     },
     "metadata": {
      "needs_background": "light"
     },
     "output_type": "display_data"
    }
   ],
   "source": [
    "table.append_row([\"Voting Regression\", vr_r2,vr_rmse])\n",
    "print(table)\n",
    "\n",
    "plot.add('Voting Regression', y_test, y_pred)\n",
    "plot.show(figsize=(5, 5))"
   ]
  },
  {
   "cell_type": "code",
   "execution_count": null,
   "id": "5c2ef877",
   "metadata": {},
   "outputs": [],
   "source": []
  },
  {
   "cell_type": "code",
   "execution_count": null,
   "id": "c1a0c5fb",
   "metadata": {},
   "outputs": [],
   "source": []
  }
 ],
 "metadata": {
  "kernelspec": {
   "display_name": "Python 3 (ipykernel)",
   "language": "python",
   "name": "python3"
  },
  "language_info": {
   "codemirror_mode": {
    "name": "ipython",
    "version": 3
   },
   "file_extension": ".py",
   "mimetype": "text/x-python",
   "name": "python",
   "nbconvert_exporter": "python",
   "pygments_lexer": "ipython3",
   "version": "3.9.7"
  }
 },
 "nbformat": 4,
 "nbformat_minor": 5
}
