{
 "cells": [
  {
   "cell_type": "code",
   "execution_count": 1,
   "id": "cea766ec",
   "metadata": {},
   "outputs": [],
   "source": [
    "# Import machine learning libraries\n",
    "import numpy as np\n",
    "import pandas as pd\n",
    "import scipy.stats as stats\n",
    "import seaborn as sns\n",
    "# To enable plotting graphs in Jupyter notebook\n",
    "import matplotlib.pyplot as plt\n",
    "%matplotlib inline \n",
    "import warnings\n",
    "warnings.filterwarnings('ignore')\n",
    "import statsmodels.api as sm\n",
    "\n",
    "from sklearn import metrics\n",
    "from sklearn.linear_model import LogisticRegression\n",
    "from sklearn.model_selection import train_test_split\n",
    "from sklearn.linear_model import Ridge\n",
    "from sklearn.linear_model import Lasso\n",
    "\n",
    "from sklearn.metrics import r2_score\n",
    "\n",
    "from sklearn.linear_model import LinearRegression\n",
    "from sklearn import linear_model\n",
    "from sklearn.preprocessing import StandardScaler\n",
    "from sklearn.ensemble import RandomForestClassifier\n",
    "from sklearn.tree import DecisionTreeClassifier\n",
    "from sklearn import preprocessing\n",
    "from sklearn.preprocessing import MinMaxScaler\n",
    "from tabulate import tabulate\n",
    "from sklearn.ensemble import RandomForestRegressor\n",
    "from xgboost import XGBRegressor\n",
    "from sklearn.ensemble import VotingRegressor\n",
    "\n",
    "from beautifultable import BeautifulTable\n",
    "table = BeautifulTable()\n",
    "table.column_headers = [\"Model Name\", \"r2\", \"RMSE\"]"
   ]
  },
  {
   "cell_type": "code",
   "execution_count": 2,
   "id": "6845d9b8",
   "metadata": {},
   "outputs": [
    {
     "data": {
      "text/html": [
       "<div>\n",
       "<style scoped>\n",
       "    .dataframe tbody tr th:only-of-type {\n",
       "        vertical-align: middle;\n",
       "    }\n",
       "\n",
       "    .dataframe tbody tr th {\n",
       "        vertical-align: top;\n",
       "    }\n",
       "\n",
       "    .dataframe thead th {\n",
       "        text-align: right;\n",
       "    }\n",
       "</style>\n",
       "<table border=\"1\" class=\"dataframe\">\n",
       "  <thead>\n",
       "    <tr style=\"text-align: right;\">\n",
       "      <th></th>\n",
       "      <th>X</th>\n",
       "      <th>T</th>\n",
       "      <th>L</th>\n",
       "      <th>N</th>\n",
       "      <th>Y</th>\n",
       "    </tr>\n",
       "  </thead>\n",
       "  <tbody>\n",
       "    <tr>\n",
       "      <th>0</th>\n",
       "      <td>20.0</td>\n",
       "      <td>235</td>\n",
       "      <td>100</td>\n",
       "      <td>25</td>\n",
       "      <td>19.795</td>\n",
       "    </tr>\n",
       "    <tr>\n",
       "      <th>1</th>\n",
       "      <td>20.0</td>\n",
       "      <td>235</td>\n",
       "      <td>150</td>\n",
       "      <td>50</td>\n",
       "      <td>19.823</td>\n",
       "    </tr>\n",
       "    <tr>\n",
       "      <th>2</th>\n",
       "      <td>20.0</td>\n",
       "      <td>235</td>\n",
       "      <td>200</td>\n",
       "      <td>75</td>\n",
       "      <td>19.841</td>\n",
       "    </tr>\n",
       "    <tr>\n",
       "      <th>3</th>\n",
       "      <td>20.0</td>\n",
       "      <td>240</td>\n",
       "      <td>100</td>\n",
       "      <td>50</td>\n",
       "      <td>19.826</td>\n",
       "    </tr>\n",
       "    <tr>\n",
       "      <th>4</th>\n",
       "      <td>20.0</td>\n",
       "      <td>240</td>\n",
       "      <td>150</td>\n",
       "      <td>75</td>\n",
       "      <td>19.772</td>\n",
       "    </tr>\n",
       "    <tr>\n",
       "      <th>5</th>\n",
       "      <td>20.0</td>\n",
       "      <td>240</td>\n",
       "      <td>200</td>\n",
       "      <td>25</td>\n",
       "      <td>19.775</td>\n",
       "    </tr>\n",
       "    <tr>\n",
       "      <th>6</th>\n",
       "      <td>20.0</td>\n",
       "      <td>245</td>\n",
       "      <td>100</td>\n",
       "      <td>75</td>\n",
       "      <td>19.785</td>\n",
       "    </tr>\n",
       "    <tr>\n",
       "      <th>7</th>\n",
       "      <td>20.0</td>\n",
       "      <td>245</td>\n",
       "      <td>150</td>\n",
       "      <td>25</td>\n",
       "      <td>19.803</td>\n",
       "    </tr>\n",
       "    <tr>\n",
       "      <th>8</th>\n",
       "      <td>20.0</td>\n",
       "      <td>245</td>\n",
       "      <td>200</td>\n",
       "      <td>50</td>\n",
       "      <td>19.829</td>\n",
       "    </tr>\n",
       "    <tr>\n",
       "      <th>9</th>\n",
       "      <td>14.0</td>\n",
       "      <td>235</td>\n",
       "      <td>100</td>\n",
       "      <td>25</td>\n",
       "      <td>13.800</td>\n",
       "    </tr>\n",
       "  </tbody>\n",
       "</table>\n",
       "</div>"
      ],
      "text/plain": [
       "      X    T    L   N       Y\n",
       "0  20.0  235  100  25  19.795\n",
       "1  20.0  235  150  50  19.823\n",
       "2  20.0  235  200  75  19.841\n",
       "3  20.0  240  100  50  19.826\n",
       "4  20.0  240  150  75  19.772\n",
       "5  20.0  240  200  25  19.775\n",
       "6  20.0  245  100  75  19.785\n",
       "7  20.0  245  150  25  19.803\n",
       "8  20.0  245  200  50  19.829\n",
       "9  14.0  235  100  25  13.800"
      ]
     },
     "execution_count": 2,
     "metadata": {},
     "output_type": "execute_result"
    }
   ],
   "source": [
    "dia = pd.read_csv(\"dia.csv\")\n",
    "dia.head(10)"
   ]
  },
  {
   "cell_type": "code",
   "execution_count": 3,
   "id": "9c4d730c",
   "metadata": {},
   "outputs": [
    {
     "name": "stdout",
     "output_type": "stream",
     "text": [
      "<class 'pandas.core.frame.DataFrame'>\n",
      "RangeIndex: 198 entries, 0 to 197\n",
      "Data columns (total 5 columns):\n",
      " #   Column  Non-Null Count  Dtype  \n",
      "---  ------  --------------  -----  \n",
      " 0   X       198 non-null    float64\n",
      " 1   T       198 non-null    int64  \n",
      " 2   L       198 non-null    int64  \n",
      " 3   N       198 non-null    int64  \n",
      " 4   Y       198 non-null    float64\n",
      "dtypes: float64(2), int64(3)\n",
      "memory usage: 7.9 KB\n"
     ]
    }
   ],
   "source": [
    "dia.info()"
   ]
  },
  {
   "cell_type": "code",
   "execution_count": 4,
   "id": "f8f11428",
   "metadata": {},
   "outputs": [
    {
     "data": {
      "text/html": [
       "<div>\n",
       "<style scoped>\n",
       "    .dataframe tbody tr th:only-of-type {\n",
       "        vertical-align: middle;\n",
       "    }\n",
       "\n",
       "    .dataframe tbody tr th {\n",
       "        vertical-align: top;\n",
       "    }\n",
       "\n",
       "    .dataframe thead th {\n",
       "        text-align: right;\n",
       "    }\n",
       "</style>\n",
       "<table border=\"1\" class=\"dataframe\">\n",
       "  <thead>\n",
       "    <tr style=\"text-align: right;\">\n",
       "      <th></th>\n",
       "      <th>count</th>\n",
       "      <th>mean</th>\n",
       "      <th>std</th>\n",
       "      <th>min</th>\n",
       "      <th>25%</th>\n",
       "      <th>50%</th>\n",
       "      <th>75%</th>\n",
       "      <th>max</th>\n",
       "    </tr>\n",
       "  </thead>\n",
       "  <tbody>\n",
       "    <tr>\n",
       "      <th>X</th>\n",
       "      <td>198.0</td>\n",
       "      <td>7.431818</td>\n",
       "      <td>4.853608</td>\n",
       "      <td>2.000</td>\n",
       "      <td>3.500</td>\n",
       "      <td>5.500</td>\n",
       "      <td>10.00000</td>\n",
       "      <td>20.000</td>\n",
       "    </tr>\n",
       "    <tr>\n",
       "      <th>T</th>\n",
       "      <td>198.0</td>\n",
       "      <td>240.000000</td>\n",
       "      <td>4.092831</td>\n",
       "      <td>235.000</td>\n",
       "      <td>235.000</td>\n",
       "      <td>240.000</td>\n",
       "      <td>245.00000</td>\n",
       "      <td>245.000</td>\n",
       "    </tr>\n",
       "    <tr>\n",
       "      <th>L</th>\n",
       "      <td>198.0</td>\n",
       "      <td>150.000000</td>\n",
       "      <td>40.928314</td>\n",
       "      <td>100.000</td>\n",
       "      <td>100.000</td>\n",
       "      <td>150.000</td>\n",
       "      <td>200.00000</td>\n",
       "      <td>200.000</td>\n",
       "    </tr>\n",
       "    <tr>\n",
       "      <th>N</th>\n",
       "      <td>198.0</td>\n",
       "      <td>50.000000</td>\n",
       "      <td>20.464157</td>\n",
       "      <td>25.000</td>\n",
       "      <td>25.000</td>\n",
       "      <td>50.000</td>\n",
       "      <td>75.00000</td>\n",
       "      <td>75.000</td>\n",
       "    </tr>\n",
       "    <tr>\n",
       "      <th>Y</th>\n",
       "      <td>198.0</td>\n",
       "      <td>7.324934</td>\n",
       "      <td>4.840865</td>\n",
       "      <td>1.897</td>\n",
       "      <td>3.481</td>\n",
       "      <td>5.416</td>\n",
       "      <td>9.93525</td>\n",
       "      <td>19.841</td>\n",
       "    </tr>\n",
       "  </tbody>\n",
       "</table>\n",
       "</div>"
      ],
      "text/plain": [
       "   count        mean        std      min      25%      50%        75%      max\n",
       "X  198.0    7.431818   4.853608    2.000    3.500    5.500   10.00000   20.000\n",
       "T  198.0  240.000000   4.092831  235.000  235.000  240.000  245.00000  245.000\n",
       "L  198.0  150.000000  40.928314  100.000  100.000  150.000  200.00000  200.000\n",
       "N  198.0   50.000000  20.464157   25.000   25.000   50.000   75.00000   75.000\n",
       "Y  198.0    7.324934   4.840865    1.897    3.481    5.416    9.93525   19.841"
      ]
     },
     "execution_count": 4,
     "metadata": {},
     "output_type": "execute_result"
    }
   ],
   "source": [
    "dia.describe().T"
   ]
  },
  {
   "cell_type": "code",
   "execution_count": 5,
   "id": "25322081",
   "metadata": {},
   "outputs": [],
   "source": [
    "X = dia.drop(\"Y\", axis=1)\n",
    "y = dia[\"Y\"]"
   ]
  },
  {
   "cell_type": "markdown",
   "id": "9c8769e6",
   "metadata": {},
   "source": [
    "# Scaling"
   ]
  },
  {
   "cell_type": "code",
   "execution_count": 6,
   "id": "2279958c",
   "metadata": {},
   "outputs": [],
   "source": [
    "scaler = MinMaxScaler() \n",
    "x_scaled = scaler.fit_transform(X)\n",
    "X = pd.DataFrame(x_scaled)\n",
    "test_size = 0.3 \n",
    "seed = 7  # Random number seeding for reapeatability of the code\n",
    "X_train, X_test, y_train, y_test = train_test_split(X, y, test_size=test_size, random_state=seed)"
   ]
  },
  {
   "cell_type": "markdown",
   "id": "07db6d1c",
   "metadata": {},
   "source": [
    "# Model Building - Regression"
   ]
  },
  {
   "cell_type": "code",
   "execution_count": 7,
   "id": "b1fafb8e",
   "metadata": {},
   "outputs": [
    {
     "name": "stdout",
     "output_type": "stream",
     "text": [
      "Linear Regression Score:  0.9981\n"
     ]
    }
   ],
   "source": [
    "regression_model = LinearRegression()\n",
    "regression_model.fit(X,y)\n",
    "lin_score = \"%.4f\" % regression_model.score(X_test, y_test)\n",
    "print(\"Linear Regression Score: \",lin_score)"
   ]
  },
  {
   "cell_type": "code",
   "execution_count": 8,
   "id": "0ff22e85",
   "metadata": {},
   "outputs": [
    {
     "data": {
      "text/plain": [
       "array([ 1.79387491e+01, -6.01515152e-02,  2.22878788e-02, -1.61060606e-02])"
      ]
     },
     "execution_count": 8,
     "metadata": {},
     "output_type": "execute_result"
    }
   ],
   "source": [
    "regression_model.coef_"
   ]
  },
  {
   "cell_type": "code",
   "execution_count": 9,
   "id": "7f895ab8",
   "metadata": {},
   "outputs": [
    {
     "data": {
      "text/plain": [
       "1.9385845379996027"
      ]
     },
     "execution_count": 9,
     "metadata": {},
     "output_type": "execute_result"
    }
   ],
   "source": [
    "regression_model.intercept_"
   ]
  },
  {
   "cell_type": "code",
   "execution_count": 10,
   "id": "0504d190",
   "metadata": {},
   "outputs": [
    {
     "data": {
      "text/plain": [
       "0.18511944393376567"
      ]
     },
     "execution_count": 10,
     "metadata": {},
     "output_type": "execute_result"
    }
   ],
   "source": [
    "regression_model.predict(X_test)\n",
    "y_pred = regression_model.predict(X_test)\n",
    "np.sqrt(metrics.mean_squared_error(y_test, y_pred))"
   ]
  },
  {
   "cell_type": "code",
   "execution_count": 11,
   "id": "da1b6847",
   "metadata": {},
   "outputs": [
    {
     "name": "stdout",
     "output_type": "stream",
     "text": [
      "0.9985805951675871\n",
      "0.998122358571347\n"
     ]
    }
   ],
   "source": [
    "print(regression_model.score(X_train, y_train))\n",
    "print(regression_model.score(X_test, y_test))"
   ]
  },
  {
   "cell_type": "code",
   "execution_count": 12,
   "id": "c4f0cde3",
   "metadata": {},
   "outputs": [],
   "source": [
    "class CompareModel:\n",
    "    def __init__(self):\n",
    "        import pandas as pd\n",
    "        self._models = pd.DataFrame(\n",
    "            data=['r', 'R^2', 'RMSE'],\n",
    "            columns=['Model']\n",
    "        ).set_index(keys='Model')\n",
    "        \n",
    "    def add(self, model_name, y_test, y_pred):\n",
    "        import numpy as np\n",
    "        self._models[model_name] = np.array(\n",
    "            object=[\n",
    "                np.corrcoef(y_test, y_pred)[0, 1], # r\n",
    "                r2_score(y_true=y_test, y_pred=y_pred), # R^2\n",
    "                np.sqrt(mean_squared_error(y_true=y_test, y_pred=y_pred)) # RMSE\n",
    "                #np.sqrt(np.mean(((y_test-y_pred)/y_test)**2)), # RMSRE\n",
    "                #np.mean(np.abs((y_test-y_pred) / y_test)) * 100 # MAPE\n",
    "            ]\n",
    "        )\n",
    "        \n",
    "    def R2AndRMSE(y_test, y_pred):\n",
    "        from sklearn.metrics import r2_score, mean_squared_error\n",
    "        return r2_score(y_true=y_test, y_pred=y_pred), np.sqrt(mean_squared_error(y_true=y_test, y_pred=y_pred))\n",
    "    \n",
    "    @property\n",
    "    def models(self):\n",
    "        return self._models\n",
    "    \n",
    "    @models.setter\n",
    "    def models(self, _):\n",
    "        print('Cannot perform such task.')\n",
    "    \n",
    "    def show(self, **kwargs):\n",
    "        import matplotlib.pyplot as plt\n",
    "        kwargs['marker'] = kwargs.get('marker', 'X')\n",
    "        self._models.plot(**kwargs)\n",
    "        plt.xticks(range(len(self._models)), self._models.index)\n",
    "        plt.xlabel('')\n",
    "        plt.axis('auto')\n",
    "        plt.show()"
   ]
  },
  {
   "cell_type": "code",
   "execution_count": 13,
   "id": "64286df9",
   "metadata": {},
   "outputs": [
    {
     "name": "stdout",
     "output_type": "stream",
     "text": [
      "0.998122358571347\n"
     ]
    },
    {
     "data": {
      "text/plain": [
       "0.18511944393376567"
      ]
     },
     "execution_count": 13,
     "metadata": {},
     "output_type": "execute_result"
    }
   ],
   "source": [
    "# Metrics\n",
    "lr= CompareModel.R2AndRMSE(y_test=y_test, y_pred=y_pred)\n",
    "lr_r2 = r2_score(y_true=y_test, y_pred=y_pred)\n",
    "print(lr_r2)\n",
    "\n",
    "from sklearn.metrics import r2_score, mean_squared_error\n",
    "lr_rmse = np.sqrt(mean_squared_error(y_true=y_test, y_pred=y_pred))\n",
    "lr_rmse"
   ]
  },
  {
   "cell_type": "code",
   "execution_count": 14,
   "id": "349aee24",
   "metadata": {},
   "outputs": [
    {
     "name": "stdout",
     "output_type": "stream",
     "text": [
      "+-------------------+-------+-------+\n",
      "|    Model Name     |  r2   | RMSE  |\n",
      "+-------------------+-------+-------+\n",
      "| Linear Regression | 0.998 | 0.185 |\n",
      "+-------------------+-------+-------+\n"
     ]
    },
    {
     "data": {
      "image/png": "[encoded data removed]",
      "text/plain": [
       "<Figure size 720x360 with 1 Axes>"
      ]
     },
     "metadata": {
      "needs_background": "light"
     },
     "output_type": "display_data"
    }
   ],
   "source": [
    "from beautifultable import BeautifulTable\n",
    "table = BeautifulTable()\n",
    "table.column_headers = [\"Model Name\", \"r2\", \"RMSE\"]\n",
    "\n",
    "table1 = table.append_row([\"Linear Regression\", lr_r2,lr_rmse])\n",
    "print(table)\n",
    "\n",
    "plot = CompareModel()\n",
    "from sklearn.metrics import r2_score, mean_squared_error\n",
    "plot.add(model_name='Linear Regression', y_test=y_test, y_pred=y_pred)\n",
    "plot.show(figsize=(10, 5))"
   ]
  },
  {
   "cell_type": "markdown",
   "id": "6b95d4df",
   "metadata": {},
   "source": [
    "# Lasso"
   ]
  },
  {
   "cell_type": "code",
   "execution_count": 15,
   "id": "4eed7ba6",
   "metadata": {},
   "outputs": [
    {
     "data": {
      "text/plain": [
       "(0.9923575327984944, 0.3734758284767354)"
      ]
     },
     "execution_count": 15,
     "metadata": {},
     "output_type": "execute_result"
    }
   ],
   "source": [
    "# Fitting training set to lasso regression model\n",
    "from sklearn.linear_model import Lasso\n",
    "\n",
    "\n",
    "lasso = Lasso(alpha=0.1)\n",
    "lasso.fit(X_train,y_train)\n",
    "\n",
    "\n",
    "# Predicting the yield\n",
    "y_pred = lasso.predict(X_test)\n",
    "\n",
    "CompareModel.R2AndRMSE(y_test=y_test, y_pred=y_pred)"
   ]
  },
  {
   "cell_type": "code",
   "execution_count": 16,
   "id": "357e8a84",
   "metadata": {},
   "outputs": [
    {
     "name": "stdout",
     "output_type": "stream",
     "text": [
      "+-------------------+-------+-------+\n",
      "|    Model Name     |  r2   | RMSE  |\n",
      "+-------------------+-------+-------+\n",
      "| Linear Regression | 0.998 | 0.185 |\n",
      "+-------------------+-------+-------+\n",
      "|       Lasso       | 0.992 | 0.373 |\n",
      "+-------------------+-------+-------+\n"
     ]
    },
    {
     "data": {
      "image/png": "[encoded data removed]",
      "text/plain": [
       "<Figure size 360x360 with 1 Axes>"
      ]
     },
     "metadata": {
      "needs_background": "light"
     },
     "output_type": "display_data"
    }
   ],
   "source": [
    "lasso_r2 = r2_score(y_true=y_test, y_pred=y_pred)\n",
    "lasso_rmse = np.sqrt(mean_squared_error(y_true=y_test, y_pred=y_pred))\n",
    "\n",
    "table.append_row([\"Lasso\", lasso_r2,lasso_rmse])\n",
    "print(table)\n",
    "\n",
    "plot.add('Lasso', y_test, y_pred)\n",
    "plot.show(figsize=(5, 5))"
   ]
  },
  {
   "cell_type": "markdown",
   "id": "2e4832d8",
   "metadata": {},
   "source": [
    "# Ridge"
   ]
  },
  {
   "cell_type": "code",
   "execution_count": 17,
   "id": "c0eebb37",
   "metadata": {},
   "outputs": [
    {
     "data": {
      "text/plain": [
       "(0.9978756342040652, 0.1969066382828026)"
      ]
     },
     "execution_count": 17,
     "metadata": {},
     "output_type": "execute_result"
    }
   ],
   "source": [
    "from sklearn.linear_model import Ridge\n",
    "ridge = Ridge(alpha=.1)\n",
    "ridge.fit(X_train,y_train)\n",
    "y_pred = ridge.predict(X_test)\n",
    "\n",
    "\n",
    "CompareModel.R2AndRMSE(y_test=y_test, y_pred=y_pred)"
   ]
  },
  {
   "cell_type": "code",
   "execution_count": 18,
   "id": "bf4689cd",
   "metadata": {},
   "outputs": [
    {
     "name": "stdout",
     "output_type": "stream",
     "text": [
      "+-------------------+-------+-------+\n",
      "|    Model Name     |  r2   | RMSE  |\n",
      "+-------------------+-------+-------+\n",
      "| Linear Regression | 0.998 | 0.185 |\n",
      "+-------------------+-------+-------+\n",
      "|       Lasso       | 0.992 | 0.373 |\n",
      "+-------------------+-------+-------+\n",
      "|       Ridge       | 0.998 | 0.197 |\n",
      "+-------------------+-------+-------+\n"
     ]
    },
    {
     "data": {
      "image/png": "[encoded data removed]",
      "text/plain": [
       "<Figure size 360x360 with 1 Axes>"
      ]
     },
     "metadata": {
      "needs_background": "light"
     },
     "output_type": "display_data"
    }
   ],
   "source": [
    "ridge_r2 = r2_score(y_true=y_test, y_pred=y_pred)\n",
    "ridge_rmse = np.sqrt(mean_squared_error(y_true=y_test, y_pred=y_pred))\n",
    "\n",
    "table.append_row([\"Ridge\", ridge_r2,ridge_rmse])\n",
    "print(table)\n",
    "\n",
    "plot.add('Ridge', y_test, y_pred)\n",
    "plot.show(figsize=(5, 5))"
   ]
  },
  {
   "cell_type": "markdown",
   "id": "d93d0514",
   "metadata": {},
   "source": [
    "# Random Forest"
   ]
  },
  {
   "cell_type": "code",
   "execution_count": 19,
   "id": "fad1d87f",
   "metadata": {},
   "outputs": [
    {
     "data": {
      "text/plain": [
       "(0.9981465905826786, 0.18392102991889342)"
      ]
     },
     "execution_count": 19,
     "metadata": {},
     "output_type": "execute_result"
    }
   ],
   "source": [
    "# Fitting Random Forest model to the dataset\n",
    "from sklearn.ensemble import RandomForestRegressor\n",
    "rfr = RandomForestRegressor(n_estimators=10, random_state=7, n_jobs=-1)\n",
    "rfr.fit(X_train, y_train)\n",
    "\n",
    "# Predicting the yield\n",
    "y_pred = rfr.predict(X_test)\n",
    "\n",
    "CompareModel.R2AndRMSE(y_test=y_test, y_pred=y_pred)"
   ]
  },
  {
   "cell_type": "code",
   "execution_count": 20,
   "id": "aee1b740",
   "metadata": {},
   "outputs": [
    {
     "name": "stdout",
     "output_type": "stream",
     "text": [
      "+-------------------+-------+-------+\n",
      "|    Model Name     |  r2   | RMSE  |\n",
      "+-------------------+-------+-------+\n",
      "| Linear Regression | 0.998 | 0.185 |\n",
      "+-------------------+-------+-------+\n",
      "|       Lasso       | 0.992 | 0.373 |\n",
      "+-------------------+-------+-------+\n",
      "|       Ridge       | 0.998 | 0.197 |\n",
      "+-------------------+-------+-------+\n",
      "|   Random Forest   | 0.998 | 0.184 |\n",
      "+-------------------+-------+-------+\n"
     ]
    },
    {
     "data": {
      "image/png": "[encoded data removed]",
      "text/plain": [
       "<Figure size 360x360 with 1 Axes>"
      ]
     },
     "metadata": {
      "needs_background": "light"
     },
     "output_type": "display_data"
    }
   ],
   "source": [
    "rf_r2 = r2_score(y_true=y_test, y_pred=y_pred)\n",
    "rf_rmse = np.sqrt(mean_squared_error(y_true=y_test, y_pred=y_pred))\n",
    "table.append_row([\"Random Forest\", rf_r2,rf_rmse])\n",
    "print(table)\n",
    "\n",
    "plot.add('Random Forest', y_test, y_pred)\n",
    "plot.show(figsize=(5, 5))"
   ]
  },
  {
   "cell_type": "markdown",
   "id": "bcf97243",
   "metadata": {},
   "source": [
    "# XGBoost"
   ]
  },
  {
   "cell_type": "code",
   "execution_count": 21,
   "id": "07112888",
   "metadata": {},
   "outputs": [
    {
     "name": "stdout",
     "output_type": "stream",
     "text": [
      "[07:26:33] WARNING: d:\\bld\\xgboost-split_1645118015404\\work\\src\\objective\\regression_obj.cu:188: reg:linear is now deprecated in favor of reg:squarederror.\n",
      "[07:26:33] WARNING: D:\\bld\\xgboost-split_1645118015404\\work\\src\\learner.cc:576: \n",
      "Parameters: { \"silent\", \"verbose\" } might not be used.\n",
      "\n",
      "  This could be a false alarm, with some parameters getting used by language bindings but\n",
      "  then being mistakenly passed down to XGBoost core, or some parameter actually being used\n",
      "  but getting flagged wrongly here. Please open an issue if you find any such cases.\n",
      "\n",
      "\n"
     ]
    },
    {
     "data": {
      "text/plain": [
       "(0.9978057896461552, 0.20011739346785626)"
      ]
     },
     "execution_count": 21,
     "metadata": {},
     "output_type": "execute_result"
    }
   ],
   "source": [
    "# Fitting XGBoost to the dataset  (reg:squarederror)\n",
    "from xgboost import XGBRegressor\n",
    "xgb = XGBRegressor(n_jobs=4, silent=False, objective='reg:linear',\n",
    "                   max_depth=3, random_state=50, n_estimators=100,\n",
    "                   learning_rate=0.3, verbose=True)\n",
    "xgb.fit(X_train, y_train)\n",
    "\n",
    "# Predicting the yield\n",
    "y_pred = xgb.predict(X_test)\n",
    "\n",
    "CompareModel.R2AndRMSE(y_test=y_test, y_pred=y_pred)"
   ]
  },
  {
   "cell_type": "code",
   "execution_count": 22,
   "id": "4e825eae",
   "metadata": {},
   "outputs": [
    {
     "name": "stdout",
     "output_type": "stream",
     "text": [
      "+-------------------+-------+-------+\n",
      "|    Model Name     |  r2   | RMSE  |\n",
      "+-------------------+-------+-------+\n",
      "| Linear Regression | 0.998 | 0.185 |\n",
      "+-------------------+-------+-------+\n",
      "|       Lasso       | 0.992 | 0.373 |\n",
      "+-------------------+-------+-------+\n",
      "|       Ridge       | 0.998 | 0.197 |\n",
      "+-------------------+-------+-------+\n",
      "|   Random Forest   | 0.998 | 0.184 |\n",
      "+-------------------+-------+-------+\n",
      "|      XGBoost      | 0.998 |  0.2  |\n",
      "+-------------------+-------+-------+\n"
     ]
    },
    {
     "data": {
      "image/png": "[encoded data removed]",
      "text/plain": [
       "<Figure size 360x360 with 1 Axes>"
      ]
     },
     "metadata": {
      "needs_background": "light"
     },
     "output_type": "display_data"
    }
   ],
   "source": [
    "XGBoost_r2 = r2_score(y_true=y_test, y_pred=y_pred)\n",
    "XGBoost_rmse = np.sqrt(mean_squared_error(y_true=y_test, y_pred=y_pred))\n",
    "table.append_row([\"XGBoost\", XGBoost_r2,XGBoost_rmse])\n",
    "print(table)\n",
    "\n",
    "plot.add('XGBoost', y_test, y_pred)\n",
    "plot.show(figsize=(5, 5))"
   ]
  },
  {
   "cell_type": "markdown",
   "id": "b4cf63b1",
   "metadata": {},
   "source": [
    "# Voting Regression"
   ]
  },
  {
   "cell_type": "code",
   "execution_count": 23,
   "id": "de94f38c",
   "metadata": {},
   "outputs": [],
   "source": [
    "# Fitting training set to voting regression model\n",
    "from sklearn.ensemble import VotingRegressor\n",
    "vr = VotingRegressor(estimators=[('LinReg', regression_model),\n",
    "                                 ('RanFor', rfr),\n",
    "                                 ('XGBoost', xgb)\n",
    "                                ],\n",
    "                     n_jobs=-1,\n",
    "                     weights=[4, 2, 3])\n",
    "vr.fit(X_train, y_train)\n",
    "\n",
    "# Predicting the yield\n",
    "y_pred = vr.predict(X_test)\n",
    "\n",
    "CompareModel.R2AndRMSE(y_test=y_test, y_pred=y_pred)\n",
    "\n",
    "vr_r2 = r2_score(y_true=y_test, y_pred=y_pred)\n",
    "vr_rmse = np.sqrt(mean_squared_error(y_true=y_test, y_pred=y_pred))"
   ]
  },
  {
   "cell_type": "code",
   "execution_count": 24,
   "id": "2ff6a865",
   "metadata": {},
   "outputs": [
    {
     "name": "stdout",
     "output_type": "stream",
     "text": [
      "+-------------------+-------+-------+\n",
      "|    Model Name     |  r2   | RMSE  |\n",
      "+-------------------+-------+-------+\n",
      "| Linear Regression | 0.998 | 0.185 |\n",
      "+-------------------+-------+-------+\n",
      "|       Lasso       | 0.992 | 0.373 |\n",
      "+-------------------+-------+-------+\n",
      "|       Ridge       | 0.998 | 0.197 |\n",
      "+-------------------+-------+-------+\n",
      "|   Random Forest   | 0.998 | 0.184 |\n",
      "+-------------------+-------+-------+\n",
      "|      XGBoost      | 0.998 |  0.2  |\n",
      "+-------------------+-------+-------+\n",
      "| Voting Regression | 0.998 | 0.183 |\n",
      "+-------------------+-------+-------+\n"
     ]
    },
    {
     "data": {
      "image/png": "[encoded data removed]",
      "text/plain": [
       "<Figure size 360x360 with 1 Axes>"
      ]
     },
     "metadata": {
      "needs_background": "light"
     },
     "output_type": "display_data"
    }
   ],
   "source": [
    "table.append_row([\"Voting Regression\", vr_r2,vr_rmse])\n",
    "print(table)\n",
    "\n",
    "plot.add('Voting Regression', y_test, y_pred)\n",
    "plot.show(figsize=(5, 5))"
   ]
  },
  {
   "cell_type": "code",
   "execution_count": null,
   "id": "28d7f9c7",
   "metadata": {},
   "outputs": [],
   "source": []
  }
 ],
 "metadata": {
  "kernelspec": {
   "display_name": "Python 3 (ipykernel)",
   "language": "python",
   "name": "python3"
  },
  "language_info": {
   "codemirror_mode": {
    "name": "ipython",
    "version": 3
   },
   "file_extension": ".py",
   "mimetype": "text/x-python",
   "name": "python",
   "nbconvert_exporter": "python",
   "pygments_lexer": "ipython3",
   "version": "3.9.7"
  }
 },
 "nbformat": 4,
 "nbformat_minor": 5
}
