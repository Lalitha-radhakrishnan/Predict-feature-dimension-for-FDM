{
 "cells": [
  {
   "cell_type": "code",
   "execution_count": 1,
   "id": "1428c6f2",
   "metadata": {},
   "outputs": [],
   "source": [
    "# Import machine learning libraries\n",
    "import numpy as np\n",
    "import pandas as pd\n",
    "import scipy.stats as stats\n",
    "import seaborn as sns\n",
    "# To enable plotting graphs in Jupyter notebook\n",
    "import matplotlib.pyplot as plt\n",
    "%matplotlib inline \n",
    "import warnings\n",
    "warnings.filterwarnings('ignore')\n",
    "import statsmodels.api as sm\n",
    "\n",
    "from sklearn import metrics\n",
    "from sklearn.linear_model import LogisticRegression\n",
    "from sklearn.model_selection import train_test_split\n",
    "from sklearn.linear_model import Ridge\n",
    "from sklearn.linear_model import Lasso\n",
    "\n",
    "from sklearn.metrics import r2_score\n",
    "\n",
    "from sklearn.linear_model import LinearRegression\n",
    "from sklearn import linear_model\n",
    "from sklearn.preprocessing import StandardScaler\n",
    "from sklearn.ensemble import RandomForestClassifier\n",
    "from sklearn.tree import DecisionTreeClassifier\n",
    "from sklearn import preprocessing\n",
    "from sklearn.preprocessing import MinMaxScaler\n",
    "from tabulate import tabulate\n",
    "from sklearn.ensemble import RandomForestRegressor\n",
    "from xgboost import XGBRegressor\n",
    "from sklearn.ensemble import VotingRegressor\n",
    "\n",
    "from beautifultable import BeautifulTable\n",
    "table = BeautifulTable()\n",
    "table.column_headers = [\"Model Name\", \"r2\", \"RMSE\"]"
   ]
  },
  {
   "cell_type": "code",
   "execution_count": 2,
   "id": "8828cdfe",
   "metadata": {},
   "outputs": [
    {
     "data": {
      "text/html": [
       "<div>\n",
       "<style scoped>\n",
       "    .dataframe tbody tr th:only-of-type {\n",
       "        vertical-align: middle;\n",
       "    }\n",
       "\n",
       "    .dataframe tbody tr th {\n",
       "        vertical-align: top;\n",
       "    }\n",
       "\n",
       "    .dataframe thead th {\n",
       "        text-align: right;\n",
       "    }\n",
       "</style>\n",
       "<table border=\"1\" class=\"dataframe\">\n",
       "  <thead>\n",
       "    <tr style=\"text-align: right;\">\n",
       "      <th></th>\n",
       "      <th>X</th>\n",
       "      <th>T</th>\n",
       "      <th>L</th>\n",
       "      <th>N</th>\n",
       "      <th>Y</th>\n",
       "    </tr>\n",
       "  </thead>\n",
       "  <tbody>\n",
       "    <tr>\n",
       "      <th>0</th>\n",
       "      <td>1.5</td>\n",
       "      <td>235</td>\n",
       "      <td>100</td>\n",
       "      <td>25</td>\n",
       "      <td>1.588</td>\n",
       "    </tr>\n",
       "    <tr>\n",
       "      <th>1</th>\n",
       "      <td>1.5</td>\n",
       "      <td>235</td>\n",
       "      <td>150</td>\n",
       "      <td>50</td>\n",
       "      <td>1.523</td>\n",
       "    </tr>\n",
       "    <tr>\n",
       "      <th>2</th>\n",
       "      <td>1.5</td>\n",
       "      <td>235</td>\n",
       "      <td>200</td>\n",
       "      <td>75</td>\n",
       "      <td>1.577</td>\n",
       "    </tr>\n",
       "    <tr>\n",
       "      <th>3</th>\n",
       "      <td>1.5</td>\n",
       "      <td>240</td>\n",
       "      <td>100</td>\n",
       "      <td>50</td>\n",
       "      <td>1.434</td>\n",
       "    </tr>\n",
       "    <tr>\n",
       "      <th>4</th>\n",
       "      <td>1.5</td>\n",
       "      <td>240</td>\n",
       "      <td>150</td>\n",
       "      <td>75</td>\n",
       "      <td>1.487</td>\n",
       "    </tr>\n",
       "    <tr>\n",
       "      <th>5</th>\n",
       "      <td>1.5</td>\n",
       "      <td>240</td>\n",
       "      <td>200</td>\n",
       "      <td>25</td>\n",
       "      <td>1.408</td>\n",
       "    </tr>\n",
       "    <tr>\n",
       "      <th>6</th>\n",
       "      <td>1.5</td>\n",
       "      <td>245</td>\n",
       "      <td>100</td>\n",
       "      <td>75</td>\n",
       "      <td>1.515</td>\n",
       "    </tr>\n",
       "    <tr>\n",
       "      <th>7</th>\n",
       "      <td>1.5</td>\n",
       "      <td>245</td>\n",
       "      <td>150</td>\n",
       "      <td>25</td>\n",
       "      <td>1.487</td>\n",
       "    </tr>\n",
       "    <tr>\n",
       "      <th>8</th>\n",
       "      <td>1.5</td>\n",
       "      <td>245</td>\n",
       "      <td>200</td>\n",
       "      <td>50</td>\n",
       "      <td>1.278</td>\n",
       "    </tr>\n",
       "    <tr>\n",
       "      <th>9</th>\n",
       "      <td>2.0</td>\n",
       "      <td>235</td>\n",
       "      <td>100</td>\n",
       "      <td>25</td>\n",
       "      <td>2.049</td>\n",
       "    </tr>\n",
       "  </tbody>\n",
       "</table>\n",
       "</div>"
      ],
      "text/plain": [
       "     X    T    L   N      Y\n",
       "0  1.5  235  100  25  1.588\n",
       "1  1.5  235  150  50  1.523\n",
       "2  1.5  235  200  75  1.577\n",
       "3  1.5  240  100  50  1.434\n",
       "4  1.5  240  150  75  1.487\n",
       "5  1.5  240  200  25  1.408\n",
       "6  1.5  245  100  75  1.515\n",
       "7  1.5  245  150  25  1.487\n",
       "8  1.5  245  200  50  1.278\n",
       "9  2.0  235  100  25  2.049"
      ]
     },
     "execution_count": 2,
     "metadata": {},
     "output_type": "execute_result"
    }
   ],
   "source": [
    "ts = pd.read_csv(\"Thin slots.csv\")\n",
    "ts.head(10)"
   ]
  },
  {
   "cell_type": "code",
   "execution_count": 3,
   "id": "eec3329a",
   "metadata": {},
   "outputs": [
    {
     "name": "stdout",
     "output_type": "stream",
     "text": [
      "<class 'pandas.core.frame.DataFrame'>\n",
      "RangeIndex: 90 entries, 0 to 89\n",
      "Data columns (total 5 columns):\n",
      " #   Column  Non-Null Count  Dtype  \n",
      "---  ------  --------------  -----  \n",
      " 0   X       90 non-null     float64\n",
      " 1   T       90 non-null     int64  \n",
      " 2   L       90 non-null     int64  \n",
      " 3   N       90 non-null     int64  \n",
      " 4   Y       90 non-null     float64\n",
      "dtypes: float64(2), int64(3)\n",
      "memory usage: 3.6 KB\n"
     ]
    }
   ],
   "source": [
    "ts.info()"
   ]
  },
  {
   "cell_type": "code",
   "execution_count": 4,
   "id": "fd80e72b",
   "metadata": {},
   "outputs": [
    {
     "data": {
      "text/html": [
       "<div>\n",
       "<style scoped>\n",
       "    .dataframe tbody tr th:only-of-type {\n",
       "        vertical-align: middle;\n",
       "    }\n",
       "\n",
       "    .dataframe tbody tr th {\n",
       "        vertical-align: top;\n",
       "    }\n",
       "\n",
       "    .dataframe thead th {\n",
       "        text-align: right;\n",
       "    }\n",
       "</style>\n",
       "<table border=\"1\" class=\"dataframe\">\n",
       "  <thead>\n",
       "    <tr style=\"text-align: right;\">\n",
       "      <th></th>\n",
       "      <th>count</th>\n",
       "      <th>mean</th>\n",
       "      <th>std</th>\n",
       "      <th>min</th>\n",
       "      <th>25%</th>\n",
       "      <th>50%</th>\n",
       "      <th>75%</th>\n",
       "      <th>max</th>\n",
       "    </tr>\n",
       "  </thead>\n",
       "  <tbody>\n",
       "    <tr>\n",
       "      <th>X</th>\n",
       "      <td>90.0</td>\n",
       "      <td>2.555556</td>\n",
       "      <td>0.801839</td>\n",
       "      <td>1.50</td>\n",
       "      <td>2.00000</td>\n",
       "      <td>2.5000</td>\n",
       "      <td>3.00000</td>\n",
       "      <td>4.000</td>\n",
       "    </tr>\n",
       "    <tr>\n",
       "      <th>T</th>\n",
       "      <td>90.0</td>\n",
       "      <td>240.000000</td>\n",
       "      <td>4.105354</td>\n",
       "      <td>235.00</td>\n",
       "      <td>235.00000</td>\n",
       "      <td>240.0000</td>\n",
       "      <td>245.00000</td>\n",
       "      <td>245.000</td>\n",
       "    </tr>\n",
       "    <tr>\n",
       "      <th>L</th>\n",
       "      <td>90.0</td>\n",
       "      <td>150.000000</td>\n",
       "      <td>41.053541</td>\n",
       "      <td>100.00</td>\n",
       "      <td>100.00000</td>\n",
       "      <td>150.0000</td>\n",
       "      <td>200.00000</td>\n",
       "      <td>200.000</td>\n",
       "    </tr>\n",
       "    <tr>\n",
       "      <th>N</th>\n",
       "      <td>90.0</td>\n",
       "      <td>50.000000</td>\n",
       "      <td>20.526771</td>\n",
       "      <td>25.00</td>\n",
       "      <td>25.00000</td>\n",
       "      <td>50.0000</td>\n",
       "      <td>75.00000</td>\n",
       "      <td>75.000</td>\n",
       "    </tr>\n",
       "    <tr>\n",
       "      <th>Y</th>\n",
       "      <td>90.0</td>\n",
       "      <td>2.601911</td>\n",
       "      <td>0.801459</td>\n",
       "      <td>1.16</td>\n",
       "      <td>2.00225</td>\n",
       "      <td>2.5945</td>\n",
       "      <td>3.10125</td>\n",
       "      <td>4.075</td>\n",
       "    </tr>\n",
       "  </tbody>\n",
       "</table>\n",
       "</div>"
      ],
      "text/plain": [
       "   count        mean        std     min        25%       50%        75%  \\\n",
       "X   90.0    2.555556   0.801839    1.50    2.00000    2.5000    3.00000   \n",
       "T   90.0  240.000000   4.105354  235.00  235.00000  240.0000  245.00000   \n",
       "L   90.0  150.000000  41.053541  100.00  100.00000  150.0000  200.00000   \n",
       "N   90.0   50.000000  20.526771   25.00   25.00000   50.0000   75.00000   \n",
       "Y   90.0    2.601911   0.801459    1.16    2.00225    2.5945    3.10125   \n",
       "\n",
       "       max  \n",
       "X    4.000  \n",
       "T  245.000  \n",
       "L  200.000  \n",
       "N   75.000  \n",
       "Y    4.075  "
      ]
     },
     "execution_count": 4,
     "metadata": {},
     "output_type": "execute_result"
    }
   ],
   "source": [
    "ts.describe().T"
   ]
  },
  {
   "cell_type": "code",
   "execution_count": 5,
   "id": "f64d2478",
   "metadata": {},
   "outputs": [],
   "source": [
    "X = ts.drop(\"Y\", axis=1)\n",
    "y = ts[\"Y\"]"
   ]
  },
  {
   "cell_type": "markdown",
   "id": "b138212c",
   "metadata": {},
   "source": [
    "# Scaling"
   ]
  },
  {
   "cell_type": "code",
   "execution_count": 6,
   "id": "184ecf14",
   "metadata": {},
   "outputs": [],
   "source": [
    "scaler = MinMaxScaler() \n",
    "x_scaled = scaler.fit_transform(X)\n",
    "X = pd.DataFrame(x_scaled)\n",
    "test_size = 0.3 \n",
    "seed = 7  # Random number seeding for reapeatability of the code\n",
    "X_train, X_test, y_train, y_test = train_test_split(X, y, test_size=test_size, random_state=seed)"
   ]
  },
  {
   "cell_type": "markdown",
   "id": "7a402206",
   "metadata": {},
   "source": [
    "# Model Building - Regression"
   ]
  },
  {
   "cell_type": "code",
   "execution_count": 7,
   "id": "d8683deb",
   "metadata": {},
   "outputs": [
    {
     "name": "stdout",
     "output_type": "stream",
     "text": [
      "Linear Regression Score:  0.9792\n"
     ]
    }
   ],
   "source": [
    "regression_model = LinearRegression()\n",
    "regression_model.fit(X,y)\n",
    "lin_score = \"%.4f\" % regression_model.score(X_test, y_test)\n",
    "print(\"Linear Regression Score: \",lin_score)"
   ]
  },
  {
   "cell_type": "code",
   "execution_count": 8,
   "id": "8a977e73",
   "metadata": {},
   "outputs": [
    {
     "data": {
      "text/plain": [
       "array([ 2.46617651,  0.01982549, -0.02220784,  0.06353333])"
      ]
     },
     "execution_count": 8,
     "metadata": {},
     "output_type": "execute_result"
    }
   ],
   "source": [
    "regression_model.coef_"
   ]
  },
  {
   "cell_type": "code",
   "execution_count": 9,
   "id": "ba26ab8f",
   "metadata": {},
   "outputs": [
    {
     "data": {
      "text/plain": [
       "1.5300610962761558"
      ]
     },
     "execution_count": 9,
     "metadata": {},
     "output_type": "execute_result"
    }
   ],
   "source": [
    "regression_model.intercept_"
   ]
  },
  {
   "cell_type": "code",
   "execution_count": 10,
   "id": "922311fe",
   "metadata": {},
   "outputs": [
    {
     "data": {
      "text/plain": [
       "0.11009645427369665"
      ]
     },
     "execution_count": 10,
     "metadata": {},
     "output_type": "execute_result"
    }
   ],
   "source": [
    "regression_model.predict(X_test)\n",
    "y_pred = regression_model.predict(X_test)\n",
    "np.sqrt(metrics.mean_squared_error(y_test, y_pred))"
   ]
  },
  {
   "cell_type": "code",
   "execution_count": 11,
   "id": "d530a875",
   "metadata": {},
   "outputs": [
    {
     "name": "stdout",
     "output_type": "stream",
     "text": [
      "0.9737406633100114\n",
      "0.9792342981395322\n"
     ]
    }
   ],
   "source": [
    "print(regression_model.score(X_train, y_train))\n",
    "print(regression_model.score(X_test, y_test))"
   ]
  },
  {
   "cell_type": "code",
   "execution_count": 12,
   "id": "04342c41",
   "metadata": {},
   "outputs": [],
   "source": [
    "class CompareModel:\n",
    "    def __init__(self):\n",
    "        import pandas as pd\n",
    "        self._models = pd.DataFrame(\n",
    "            data=['r', 'R^2', 'RMSE'],\n",
    "            columns=['Model']\n",
    "        ).set_index(keys='Model')\n",
    "        \n",
    "    def add(self, model_name, y_test, y_pred):\n",
    "        import numpy as np\n",
    "        self._models[model_name] = np.array(\n",
    "            object=[\n",
    "                np.corrcoef(y_test, y_pred)[0, 1], # r\n",
    "                r2_score(y_true=y_test, y_pred=y_pred), # R^2\n",
    "                np.sqrt(mean_squared_error(y_true=y_test, y_pred=y_pred)) # RMSE\n",
    "                #np.sqrt(np.mean(((y_test-y_pred)/y_test)**2)), # RMSRE\n",
    "                #np.mean(np.abs((y_test-y_pred) / y_test)) * 100 # MAPE\n",
    "            ]\n",
    "        )\n",
    "        \n",
    "    def R2AndRMSE(y_test, y_pred):\n",
    "        from sklearn.metrics import r2_score, mean_squared_error\n",
    "        return r2_score(y_true=y_test, y_pred=y_pred), np.sqrt(mean_squared_error(y_true=y_test, y_pred=y_pred))\n",
    "    \n",
    "    @property\n",
    "    def models(self):\n",
    "        return self._models\n",
    "    \n",
    "    @models.setter\n",
    "    def models(self, _):\n",
    "        print('Cannot perform such task.')\n",
    "    \n",
    "    def show(self, **kwargs):\n",
    "        import matplotlib.pyplot as plt\n",
    "        kwargs['marker'] = kwargs.get('marker', 'X')\n",
    "        self._models.plot(**kwargs)\n",
    "        plt.xticks(range(len(self._models)), self._models.index)\n",
    "        plt.xlabel('')\n",
    "        plt.axis('auto')\n",
    "        plt.show()"
   ]
  },
  {
   "cell_type": "code",
   "execution_count": 13,
   "id": "52a00664",
   "metadata": {},
   "outputs": [
    {
     "data": {
      "text/plain": [
       "0.11009645427369665"
      ]
     },
     "execution_count": 13,
     "metadata": {},
     "output_type": "execute_result"
    }
   ],
   "source": [
    "# Metrics\n",
    "lr= CompareModel.R2AndRMSE(y_test=y_test, y_pred=y_pred)\n",
    "lr_r2 = r2_score(y_true=y_test, y_pred=y_pred)\n",
    "lr_r2\n",
    "\n",
    "from sklearn.metrics import r2_score, mean_squared_error\n",
    "lr_rmse = np.sqrt(mean_squared_error(y_true=y_test, y_pred=y_pred))\n",
    "lr_rmse"
   ]
  },
  {
   "cell_type": "code",
   "execution_count": 14,
   "id": "0f844231",
   "metadata": {},
   "outputs": [
    {
     "name": "stdout",
     "output_type": "stream",
     "text": [
      "+-------------------+-------+------+\n",
      "|    Model Name     |  r2   | RMSE |\n",
      "+-------------------+-------+------+\n",
      "| Linear Regression | 0.979 | 0.11 |\n",
      "+-------------------+-------+------+\n"
     ]
    },
    {
     "data": {
      "image/png": "[encoded data removed]",
      "text/plain": [
       "<Figure size 720x360 with 1 Axes>"
      ]
     },
     "metadata": {
      "needs_background": "light"
     },
     "output_type": "display_data"
    }
   ],
   "source": [
    "from beautifultable import BeautifulTable\n",
    "table = BeautifulTable()\n",
    "table.column_headers = [\"Model Name\", \"r2\", \"RMSE\"]\n",
    "\n",
    "table1 = table.append_row([\"Linear Regression\", lr_r2,lr_rmse])\n",
    "print(table)\n",
    "\n",
    "plot = CompareModel()\n",
    "from sklearn.metrics import r2_score, mean_squared_error\n",
    "plot.add(model_name='Linear Regression', y_test=y_test, y_pred=y_pred)\n",
    "plot.show(figsize=(10, 5))"
   ]
  },
  {
   "cell_type": "markdown",
   "id": "3160e44b",
   "metadata": {},
   "source": [
    "# Lasso"
   ]
  },
  {
   "cell_type": "code",
   "execution_count": 15,
   "id": "14958cba",
   "metadata": {},
   "outputs": [
    {
     "data": {
      "text/plain": [
       "(0.8301266045691201, 0.3148927843333921)"
      ]
     },
     "execution_count": 15,
     "metadata": {},
     "output_type": "execute_result"
    }
   ],
   "source": [
    "# Fitting training set to lasso regression model\n",
    "from sklearn.linear_model import Lasso\n",
    "\n",
    "\n",
    "lasso = Lasso(alpha=0.1)\n",
    "lasso.fit(X_train,y_train)\n",
    "\n",
    "\n",
    "# Predicting the yield\n",
    "y_pred = lasso.predict(X_test)\n",
    "\n",
    "CompareModel.R2AndRMSE(y_test=y_test, y_pred=y_pred)"
   ]
  },
  {
   "cell_type": "code",
   "execution_count": 16,
   "id": "72a1a82f",
   "metadata": {},
   "outputs": [
    {
     "name": "stdout",
     "output_type": "stream",
     "text": [
      "The history saving thread hit an unexpected error (OperationalError('database is locked')).History will not be written to the database.\n",
      "+-------------------+-------+-------+\n",
      "|    Model Name     |  r2   | RMSE  |\n",
      "+-------------------+-------+-------+\n",
      "| Linear Regression | 0.979 | 0.11  |\n",
      "+-------------------+-------+-------+\n",
      "|       Lasso       | 0.83  | 0.315 |\n",
      "+-------------------+-------+-------+\n"
     ]
    },
    {
     "data": {
      "image/png": "[encoded data removed]",
      "text/plain": [
       "<Figure size 360x360 with 1 Axes>"
      ]
     },
     "metadata": {
      "needs_background": "light"
     },
     "output_type": "display_data"
    }
   ],
   "source": [
    "lasso_r2 = r2_score(y_true=y_test, y_pred=y_pred)\n",
    "lasso_rmse = np.sqrt(mean_squared_error(y_true=y_test, y_pred=y_pred))\n",
    "\n",
    "table.append_row([\"Lasso\", lasso_r2,lasso_rmse])\n",
    "print(table)\n",
    "\n",
    "plot.add('Lasso', y_test, y_pred)\n",
    "plot.show(figsize=(5, 5))"
   ]
  },
  {
   "cell_type": "markdown",
   "id": "dd5f467e",
   "metadata": {},
   "source": [
    "# Ridge"
   ]
  },
  {
   "cell_type": "code",
   "execution_count": 17,
   "id": "21d3b000",
   "metadata": {},
   "outputs": [
    {
     "data": {
      "text/plain": [
       "(0.9766325315795735, 0.11679005352520684)"
      ]
     },
     "execution_count": 17,
     "metadata": {},
     "output_type": "execute_result"
    }
   ],
   "source": [
    "from sklearn.linear_model import Ridge\n",
    "ridge = Ridge(alpha=.1)\n",
    "ridge.fit(X_train,y_train)\n",
    "y_pred = ridge.predict(X_test)\n",
    "\n",
    "\n",
    "CompareModel.R2AndRMSE(y_test=y_test, y_pred=y_pred)"
   ]
  },
  {
   "cell_type": "code",
   "execution_count": 18,
   "id": "399d1fe6",
   "metadata": {},
   "outputs": [
    {
     "name": "stdout",
     "output_type": "stream",
     "text": [
      "+-------------------+-------+-------+\n",
      "|    Model Name     |  r2   | RMSE  |\n",
      "+-------------------+-------+-------+\n",
      "| Linear Regression | 0.979 | 0.11  |\n",
      "+-------------------+-------+-------+\n",
      "|       Lasso       | 0.83  | 0.315 |\n",
      "+-------------------+-------+-------+\n",
      "|       Ridge       | 0.977 | 0.117 |\n",
      "+-------------------+-------+-------+\n"
     ]
    },
    {
     "data": {
      "image/png": "[encoded data removed]",
      "text/plain": [
       "<Figure size 360x360 with 1 Axes>"
      ]
     },
     "metadata": {
      "needs_background": "light"
     },
     "output_type": "display_data"
    }
   ],
   "source": [
    "ridge_r2 = r2_score(y_true=y_test, y_pred=y_pred)\n",
    "ridge_rmse = np.sqrt(mean_squared_error(y_true=y_test, y_pred=y_pred))\n",
    "\n",
    "table.append_row([\"Ridge\", ridge_r2,ridge_rmse])\n",
    "print(table)\n",
    "\n",
    "plot.add('Ridge', y_test, y_pred)\n",
    "plot.show(figsize=(5, 5))"
   ]
  },
  {
   "cell_type": "markdown",
   "id": "2ff8aa5c",
   "metadata": {},
   "source": [
    "# Random Forest"
   ]
  },
  {
   "cell_type": "code",
   "execution_count": 19,
   "id": "4b70b4f5",
   "metadata": {},
   "outputs": [
    {
     "data": {
      "text/plain": [
       "(0.9668158123459641, 0.13917640702403306)"
      ]
     },
     "execution_count": 19,
     "metadata": {},
     "output_type": "execute_result"
    }
   ],
   "source": [
    "# Fitting Random Forest model to the dataset\n",
    "from sklearn.ensemble import RandomForestRegressor\n",
    "rfr = RandomForestRegressor(n_estimators=10, random_state=10, n_jobs=-1)\n",
    "rfr.fit(X_train, y_train)\n",
    "\n",
    "# Predicting the yield\n",
    "y_pred = rfr.predict(X_test)\n",
    "\n",
    "CompareModel.R2AndRMSE(y_test=y_test, y_pred=y_pred)"
   ]
  },
  {
   "cell_type": "code",
   "execution_count": 20,
   "id": "995bb698",
   "metadata": {},
   "outputs": [
    {
     "name": "stdout",
     "output_type": "stream",
     "text": [
      "+-------------------+-------+-------+\n",
      "|    Model Name     |  r2   | RMSE  |\n",
      "+-------------------+-------+-------+\n",
      "| Linear Regression | 0.979 | 0.11  |\n",
      "+-------------------+-------+-------+\n",
      "|       Lasso       | 0.83  | 0.315 |\n",
      "+-------------------+-------+-------+\n",
      "|       Ridge       | 0.977 | 0.117 |\n",
      "+-------------------+-------+-------+\n",
      "|   Random Forest   | 0.967 | 0.139 |\n",
      "+-------------------+-------+-------+\n"
     ]
    },
    {
     "data": {
      "image/png": "[encoded data removed]",
      "text/plain": [
       "<Figure size 360x360 with 1 Axes>"
      ]
     },
     "metadata": {
      "needs_background": "light"
     },
     "output_type": "display_data"
    }
   ],
   "source": [
    "rf_r2 = r2_score(y_true=y_test, y_pred=y_pred)\n",
    "rf_rmse = np.sqrt(mean_squared_error(y_true=y_test, y_pred=y_pred))\n",
    "table.append_row([\"Random Forest\", rf_r2,rf_rmse])\n",
    "print(table)\n",
    "\n",
    "plot.add('Random Forest', y_test, y_pred)\n",
    "plot.show(figsize=(5, 5))"
   ]
  },
  {
   "cell_type": "markdown",
   "id": "0688197e",
   "metadata": {},
   "source": [
    "# XGBoost"
   ]
  },
  {
   "cell_type": "code",
   "execution_count": 21,
   "id": "26b7d727",
   "metadata": {},
   "outputs": [
    {
     "name": "stdout",
     "output_type": "stream",
     "text": [
      "[07:26:32] WARNING: d:\\bld\\xgboost-split_1645118015404\\work\\src\\objective\\regression_obj.cu:188: reg:linear is now deprecated in favor of reg:squarederror.\n",
      "[07:26:32] WARNING: D:\\bld\\xgboost-split_1645118015404\\work\\src\\learner.cc:576: \n",
      "Parameters: { \"silent\", \"verbose\" } might not be used.\n",
      "\n",
      "  This could be a false alarm, with some parameters getting used by language bindings but\n",
      "  then being mistakenly passed down to XGBoost core, or some parameter actually being used\n",
      "  but getting flagged wrongly here. Please open an issue if you find any such cases.\n",
      "\n",
      "\n"
     ]
    },
    {
     "data": {
      "text/plain": [
       "(0.9481159060551604, 0.17402720443932176)"
      ]
     },
     "execution_count": 21,
     "metadata": {},
     "output_type": "execute_result"
    }
   ],
   "source": [
    "# Fitting XGBoost to the dataset  (reg:squarederror)\n",
    "from xgboost import XGBRegressor\n",
    "xgb = XGBRegressor(n_jobs=4, silent=False, objective='reg:linear',\n",
    "                   max_depth=3, random_state=1, n_estimators=100,\n",
    "                   learning_rate=0.3, verbose=True)\n",
    "xgb.fit(X_train, y_train)\n",
    "\n",
    "# Predicting the yield\n",
    "y_pred = xgb.predict(X_test)\n",
    "\n",
    "CompareModel.R2AndRMSE(y_test=y_test, y_pred=y_pred)"
   ]
  },
  {
   "cell_type": "code",
   "execution_count": 22,
   "id": "983be54d",
   "metadata": {},
   "outputs": [
    {
     "name": "stdout",
     "output_type": "stream",
     "text": [
      "+-------------------+-------+-------+\n",
      "|    Model Name     |  r2   | RMSE  |\n",
      "+-------------------+-------+-------+\n",
      "| Linear Regression | 0.979 | 0.11  |\n",
      "+-------------------+-------+-------+\n",
      "|       Lasso       | 0.83  | 0.315 |\n",
      "+-------------------+-------+-------+\n",
      "|       Ridge       | 0.977 | 0.117 |\n",
      "+-------------------+-------+-------+\n",
      "|   Random Forest   | 0.967 | 0.139 |\n",
      "+-------------------+-------+-------+\n",
      "|      XGBoost      | 0.948 | 0.174 |\n",
      "+-------------------+-------+-------+\n"
     ]
    },
    {
     "data": {
      "image/png": "[encoded data removed]",
      "text/plain": [
       "<Figure size 360x360 with 1 Axes>"
      ]
     },
     "metadata": {
      "needs_background": "light"
     },
     "output_type": "display_data"
    }
   ],
   "source": [
    "XGBoost_r2 = r2_score(y_true=y_test, y_pred=y_pred)\n",
    "XGBoost_rmse = np.sqrt(mean_squared_error(y_true=y_test, y_pred=y_pred))\n",
    "table.append_row([\"XGBoost\", XGBoost_r2,XGBoost_rmse])\n",
    "print(table)\n",
    "\n",
    "plot.add('XGBoost', y_test, y_pred)\n",
    "plot.show(figsize=(5, 5))"
   ]
  },
  {
   "cell_type": "markdown",
   "id": "770122c9",
   "metadata": {},
   "source": [
    "# Voting Regression"
   ]
  },
  {
   "cell_type": "code",
   "execution_count": 23,
   "id": "5947aa57",
   "metadata": {},
   "outputs": [],
   "source": [
    "# Fitting training set to voting regression model\n",
    "from sklearn.ensemble import VotingRegressor\n",
    "vr = VotingRegressor(estimators=[('LinReg', regression_model),\n",
    "                                 ('RanFor', rfr),\n",
    "                                 ('XGBoost', xgb)\n",
    "                                ],\n",
    "                     n_jobs=-1,\n",
    "                     weights=[4, 2, 3])\n",
    "vr.fit(X_train, y_train)\n",
    "\n",
    "# Predicting the yield\n",
    "y_pred = vr.predict(X_test)\n",
    "\n",
    "CompareModel.R2AndRMSE(y_test=y_test, y_pred=y_pred)\n",
    "\n",
    "vr_r2 = r2_score(y_true=y_test, y_pred=y_pred)\n",
    "vr_rmse = np.sqrt(mean_squared_error(y_true=y_test, y_pred=y_pred))"
   ]
  },
  {
   "cell_type": "code",
   "execution_count": 24,
   "id": "1756c139",
   "metadata": {},
   "outputs": [
    {
     "name": "stdout",
     "output_type": "stream",
     "text": [
      "+-------------------+-------+-------+\n",
      "|    Model Name     |  r2   | RMSE  |\n",
      "+-------------------+-------+-------+\n",
      "| Linear Regression | 0.979 | 0.11  |\n",
      "+-------------------+-------+-------+\n",
      "|       Lasso       | 0.83  | 0.315 |\n",
      "+-------------------+-------+-------+\n",
      "|       Ridge       | 0.977 | 0.117 |\n",
      "+-------------------+-------+-------+\n",
      "|   Random Forest   | 0.967 | 0.139 |\n",
      "+-------------------+-------+-------+\n",
      "|      XGBoost      | 0.948 | 0.174 |\n",
      "+-------------------+-------+-------+\n",
      "| Voting Regression | 0.973 | 0.126 |\n",
      "+-------------------+-------+-------+\n"
     ]
    },
    {
     "data": {
      "image/png": "[encoded data removed]",
      "text/plain": [
       "<Figure size 360x360 with 1 Axes>"
      ]
     },
     "metadata": {
      "needs_background": "light"
     },
     "output_type": "display_data"
    }
   ],
   "source": [
    "table.append_row([\"Voting Regression\", vr_r2,vr_rmse])\n",
    "print(table)\n",
    "\n",
    "plot.add('Voting Regression', y_test, y_pred)\n",
    "plot.show(figsize=(5, 5))"
   ]
  },
  {
   "cell_type": "code",
   "execution_count": null,
   "id": "c64e9f0c",
   "metadata": {},
   "outputs": [],
   "source": []
  }
 ],
 "metadata": {
  "kernelspec": {
   "display_name": "Python 3 (ipykernel)",
   "language": "python",
   "name": "python3"
  },
  "language_info": {
   "codemirror_mode": {
    "name": "ipython",
    "version": 3
   },
   "file_extension": ".py",
   "mimetype": "text/x-python",
   "name": "python",
   "nbconvert_exporter": "python",
   "pygments_lexer": "ipython3",
   "version": "3.9.7"
  }
 },
 "nbformat": 4,
 "nbformat_minor": 5
}
