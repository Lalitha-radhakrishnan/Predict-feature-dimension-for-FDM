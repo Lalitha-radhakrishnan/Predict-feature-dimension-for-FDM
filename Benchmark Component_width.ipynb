{
 "cells": [
  {
   "cell_type": "code",
   "execution_count": 1,
   "id": "2463c160",
   "metadata": {},
   "outputs": [],
   "source": [
    "# Import machine learning libraries\n",
    "import numpy as np\n",
    "import pandas as pd\n",
    "import scipy.stats as stats\n",
    "import seaborn as sns\n",
    "# To enable plotting graphs in Jupyter notebook\n",
    "import matplotlib.pyplot as plt\n",
    "%matplotlib inline \n",
    "import warnings\n",
    "warnings.filterwarnings('ignore')\n",
    "import statsmodels.api as sm\n",
    "\n",
    "from sklearn import metrics\n",
    "from sklearn.linear_model import LogisticRegression\n",
    "from sklearn.model_selection import train_test_split\n",
    "from sklearn.linear_model import Ridge\n",
    "from sklearn.linear_model import Lasso\n",
    "\n",
    "from sklearn.metrics import r2_score\n",
    "\n",
    "from sklearn.linear_model import LinearRegression\n",
    "from sklearn import linear_model\n",
    "from sklearn.preprocessing import StandardScaler\n",
    "from sklearn.ensemble import RandomForestClassifier\n",
    "from sklearn.tree import DecisionTreeClassifier\n",
    "from sklearn import preprocessing\n",
    "from sklearn.preprocessing import MinMaxScaler\n",
    "from tabulate import tabulate\n",
    "from sklearn.ensemble import RandomForestRegressor\n",
    "from xgboost import XGBRegressor\n",
    "from sklearn.ensemble import VotingRegressor"
   ]
  },
  {
   "cell_type": "code",
   "execution_count": 2,
   "id": "1dc2f4e8",
   "metadata": {},
   "outputs": [],
   "source": [
    "from beautifultable import BeautifulTable\n",
    "table = BeautifulTable()\n",
    "table.column_headers = [\"Model Name\", \"r2\", \"RMSE\"]"
   ]
  },
  {
   "cell_type": "code",
   "execution_count": 3,
   "id": "d986eaf8",
   "metadata": {},
   "outputs": [
    {
     "data": {
      "text/html": [
       "<div>\n",
       "<style scoped>\n",
       "    .dataframe tbody tr th:only-of-type {\n",
       "        vertical-align: middle;\n",
       "    }\n",
       "\n",
       "    .dataframe tbody tr th {\n",
       "        vertical-align: top;\n",
       "    }\n",
       "\n",
       "    .dataframe thead th {\n",
       "        text-align: right;\n",
       "    }\n",
       "</style>\n",
       "<table border=\"1\" class=\"dataframe\">\n",
       "  <thead>\n",
       "    <tr style=\"text-align: right;\">\n",
       "      <th></th>\n",
       "      <th>X</th>\n",
       "      <th>T</th>\n",
       "      <th>L</th>\n",
       "      <th>N</th>\n",
       "      <th>Y</th>\n",
       "    </tr>\n",
       "  </thead>\n",
       "  <tbody>\n",
       "    <tr>\n",
       "      <th>0</th>\n",
       "      <td>15</td>\n",
       "      <td>235</td>\n",
       "      <td>100</td>\n",
       "      <td>25</td>\n",
       "      <td>14.938</td>\n",
       "    </tr>\n",
       "    <tr>\n",
       "      <th>1</th>\n",
       "      <td>15</td>\n",
       "      <td>235</td>\n",
       "      <td>150</td>\n",
       "      <td>50</td>\n",
       "      <td>15.058</td>\n",
       "    </tr>\n",
       "    <tr>\n",
       "      <th>2</th>\n",
       "      <td>15</td>\n",
       "      <td>235</td>\n",
       "      <td>200</td>\n",
       "      <td>75</td>\n",
       "      <td>15.092</td>\n",
       "    </tr>\n",
       "    <tr>\n",
       "      <th>3</th>\n",
       "      <td>15</td>\n",
       "      <td>240</td>\n",
       "      <td>100</td>\n",
       "      <td>50</td>\n",
       "      <td>14.976</td>\n",
       "    </tr>\n",
       "    <tr>\n",
       "      <th>4</th>\n",
       "      <td>15</td>\n",
       "      <td>240</td>\n",
       "      <td>150</td>\n",
       "      <td>75</td>\n",
       "      <td>15.046</td>\n",
       "    </tr>\n",
       "    <tr>\n",
       "      <th>5</th>\n",
       "      <td>15</td>\n",
       "      <td>240</td>\n",
       "      <td>200</td>\n",
       "      <td>25</td>\n",
       "      <td>14.962</td>\n",
       "    </tr>\n",
       "    <tr>\n",
       "      <th>6</th>\n",
       "      <td>15</td>\n",
       "      <td>245</td>\n",
       "      <td>100</td>\n",
       "      <td>75</td>\n",
       "      <td>15.000</td>\n",
       "    </tr>\n",
       "    <tr>\n",
       "      <th>7</th>\n",
       "      <td>15</td>\n",
       "      <td>245</td>\n",
       "      <td>150</td>\n",
       "      <td>25</td>\n",
       "      <td>14.933</td>\n",
       "    </tr>\n",
       "    <tr>\n",
       "      <th>8</th>\n",
       "      <td>15</td>\n",
       "      <td>245</td>\n",
       "      <td>200</td>\n",
       "      <td>50</td>\n",
       "      <td>15.081</td>\n",
       "    </tr>\n",
       "    <tr>\n",
       "      <th>9</th>\n",
       "      <td>5</td>\n",
       "      <td>235</td>\n",
       "      <td>100</td>\n",
       "      <td>25</td>\n",
       "      <td>4.916</td>\n",
       "    </tr>\n",
       "  </tbody>\n",
       "</table>\n",
       "</div>"
      ],
      "text/plain": [
       "    X    T    L   N       Y\n",
       "0  15  235  100  25  14.938\n",
       "1  15  235  150  50  15.058\n",
       "2  15  235  200  75  15.092\n",
       "3  15  240  100  50  14.976\n",
       "4  15  240  150  75  15.046\n",
       "5  15  240  200  25  14.962\n",
       "6  15  245  100  75  15.000\n",
       "7  15  245  150  25  14.933\n",
       "8  15  245  200  50  15.081\n",
       "9   5  235  100  25   4.916"
      ]
     },
     "execution_count": 3,
     "metadata": {},
     "output_type": "execute_result"
    }
   ],
   "source": [
    "wd = pd.read_csv(\"Width.csv\")\n",
    "wd.head(10)"
   ]
  },
  {
   "cell_type": "code",
   "execution_count": 4,
   "id": "83727336",
   "metadata": {},
   "outputs": [
    {
     "name": "stdout",
     "output_type": "stream",
     "text": [
      "<class 'pandas.core.frame.DataFrame'>\n",
      "RangeIndex: 60 entries, 0 to 59\n",
      "Data columns (total 5 columns):\n",
      " #   Column  Non-Null Count  Dtype  \n",
      "---  ------  --------------  -----  \n",
      " 0   X       60 non-null     int64  \n",
      " 1   T       60 non-null     int64  \n",
      " 2   L       60 non-null     int64  \n",
      " 3   N       60 non-null     int64  \n",
      " 4   Y       60 non-null     float64\n",
      "dtypes: float64(1), int64(4)\n",
      "memory usage: 2.5 KB\n"
     ]
    }
   ],
   "source": [
    "wd.info()"
   ]
  },
  {
   "cell_type": "code",
   "execution_count": 5,
   "id": "afc7b899",
   "metadata": {},
   "outputs": [
    {
     "data": {
      "text/html": [
       "<div>\n",
       "<style scoped>\n",
       "    .dataframe tbody tr th:only-of-type {\n",
       "        vertical-align: middle;\n",
       "    }\n",
       "\n",
       "    .dataframe tbody tr th {\n",
       "        vertical-align: top;\n",
       "    }\n",
       "\n",
       "    .dataframe thead th {\n",
       "        text-align: right;\n",
       "    }\n",
       "</style>\n",
       "<table border=\"1\" class=\"dataframe\">\n",
       "  <thead>\n",
       "    <tr style=\"text-align: right;\">\n",
       "      <th></th>\n",
       "      <th>count</th>\n",
       "      <th>mean</th>\n",
       "      <th>std</th>\n",
       "      <th>min</th>\n",
       "      <th>25%</th>\n",
       "      <th>50%</th>\n",
       "      <th>75%</th>\n",
       "      <th>max</th>\n",
       "    </tr>\n",
       "  </thead>\n",
       "  <tbody>\n",
       "    <tr>\n",
       "      <th>X</th>\n",
       "      <td>60.0</td>\n",
       "      <td>17.850000</td>\n",
       "      <td>30.874171</td>\n",
       "      <td>2.000</td>\n",
       "      <td>2.000</td>\n",
       "      <td>3.000</td>\n",
       "      <td>15.0000</td>\n",
       "      <td>90.000</td>\n",
       "    </tr>\n",
       "    <tr>\n",
       "      <th>T</th>\n",
       "      <td>60.0</td>\n",
       "      <td>240.000000</td>\n",
       "      <td>4.218603</td>\n",
       "      <td>235.000</td>\n",
       "      <td>235.000</td>\n",
       "      <td>240.000</td>\n",
       "      <td>245.0000</td>\n",
       "      <td>245.000</td>\n",
       "    </tr>\n",
       "    <tr>\n",
       "      <th>L</th>\n",
       "      <td>60.0</td>\n",
       "      <td>150.000000</td>\n",
       "      <td>41.169348</td>\n",
       "      <td>100.000</td>\n",
       "      <td>100.000</td>\n",
       "      <td>150.000</td>\n",
       "      <td>200.0000</td>\n",
       "      <td>200.000</td>\n",
       "    </tr>\n",
       "    <tr>\n",
       "      <th>N</th>\n",
       "      <td>60.0</td>\n",
       "      <td>50.000000</td>\n",
       "      <td>20.584674</td>\n",
       "      <td>25.000</td>\n",
       "      <td>25.000</td>\n",
       "      <td>50.000</td>\n",
       "      <td>75.0000</td>\n",
       "      <td>75.000</td>\n",
       "    </tr>\n",
       "    <tr>\n",
       "      <th>Y</th>\n",
       "      <td>60.0</td>\n",
       "      <td>17.964567</td>\n",
       "      <td>30.757308</td>\n",
       "      <td>1.993</td>\n",
       "      <td>2.999</td>\n",
       "      <td>3.151</td>\n",
       "      <td>14.9655</td>\n",
       "      <td>90.326</td>\n",
       "    </tr>\n",
       "  </tbody>\n",
       "</table>\n",
       "</div>"
      ],
      "text/plain": [
       "   count        mean        std      min      25%      50%       75%      max\n",
       "X   60.0   17.850000  30.874171    2.000    2.000    3.000   15.0000   90.000\n",
       "T   60.0  240.000000   4.218603  235.000  235.000  240.000  245.0000  245.000\n",
       "L   60.0  150.000000  41.169348  100.000  100.000  150.000  200.0000  200.000\n",
       "N   60.0   50.000000  20.584674   25.000   25.000   50.000   75.0000   75.000\n",
       "Y   60.0   17.964567  30.757308    1.993    2.999    3.151   14.9655   90.326"
      ]
     },
     "execution_count": 5,
     "metadata": {},
     "output_type": "execute_result"
    }
   ],
   "source": [
    "wd.describe().T"
   ]
  },
  {
   "cell_type": "code",
   "execution_count": 6,
   "id": "00c9dce5",
   "metadata": {},
   "outputs": [
    {
     "data": {
      "text/plain": [
       "<AxesSubplot:>"
      ]
     },
     "execution_count": 6,
     "metadata": {},
     "output_type": "execute_result"
    },
    {
     "data": {
      "image/png": "[encoded data removed]",
      "text/plain": [
       "<Figure size 432x288 with 1 Axes>"
      ]
     },
     "metadata": {
      "needs_background": "light"
     },
     "output_type": "display_data"
    }
   ],
   "source": [
    "sns.boxplot(data=wd, palette='coolwarm')"
   ]
  },
  {
   "cell_type": "code",
   "execution_count": 7,
   "id": "31c30f5c",
   "metadata": {},
   "outputs": [],
   "source": [
    "X = wd.drop(\"Y\", axis=1)\n",
    "y = wd[\"Y\"]"
   ]
  },
  {
   "cell_type": "code",
   "execution_count": 8,
   "id": "4dfea2af",
   "metadata": {},
   "outputs": [
    {
     "data": {
      "text/plain": [
       "(60, 4)"
      ]
     },
     "execution_count": 8,
     "metadata": {},
     "output_type": "execute_result"
    }
   ],
   "source": [
    "X.shape"
   ]
  },
  {
   "cell_type": "markdown",
   "id": "d3de8c43",
   "metadata": {},
   "source": [
    "# Scaling"
   ]
  },
  {
   "cell_type": "code",
   "execution_count": 9,
   "id": "cfcce208",
   "metadata": {},
   "outputs": [],
   "source": [
    "scaler = MinMaxScaler() \n",
    "x_scaled = scaler.fit_transform(X)\n",
    "X = pd.DataFrame(x_scaled)"
   ]
  },
  {
   "cell_type": "code",
   "execution_count": 10,
   "id": "d398a28b",
   "metadata": {},
   "outputs": [],
   "source": [
    "test_size = 0.3 \n",
    "seed = 7  # Random number seeding for reapeatability of the code\n",
    "X_train, X_test, y_train, y_test = train_test_split(X, y, test_size=test_size, random_state=seed)"
   ]
  },
  {
   "cell_type": "markdown",
   "id": "7727f554",
   "metadata": {},
   "source": [
    "# Model Building - Regression"
   ]
  },
  {
   "cell_type": "code",
   "execution_count": 11,
   "id": "c131db54",
   "metadata": {},
   "outputs": [
    {
     "name": "stdout",
     "output_type": "stream",
     "text": [
      "Linear Regression Score:  0.9990\n"
     ]
    }
   ],
   "source": [
    "regression_model = LinearRegression()\n",
    "regression_model.fit(X,y)\n",
    "lin_score = \"%.4f\" % regression_model.score(X_test, y_test)\n",
    "print(\"Linear Regression Score: \",lin_score)"
   ]
  },
  {
   "cell_type": "code",
   "execution_count": 12,
   "id": "9c02c77c",
   "metadata": {},
   "outputs": [
    {
     "data": {
      "text/plain": [
       "array([ 8.76452722e+01,  1.83333333e-01,  1.59400876e-01, -1.00350219e-02])"
      ]
     },
     "execution_count": 12,
     "metadata": {},
     "output_type": "execute_result"
    }
   ],
   "source": [
    "regression_model.coef_"
   ]
  },
  {
   "cell_type": "code",
   "execution_count": 13,
   "id": "1475c032",
   "metadata": {},
   "outputs": [
    {
     "data": {
      "text/plain": [
       "2.0121083867724465"
      ]
     },
     "execution_count": 13,
     "metadata": {},
     "output_type": "execute_result"
    }
   ],
   "source": [
    "regression_model.intercept_"
   ]
  },
  {
   "cell_type": "code",
   "execution_count": 14,
   "id": "df70757d",
   "metadata": {},
   "outputs": [
    {
     "data": {
      "text/plain": [
       "0.6358418954505782"
      ]
     },
     "execution_count": 14,
     "metadata": {},
     "output_type": "execute_result"
    }
   ],
   "source": [
    "regression_model.predict(X_test)\n",
    "y_pred = regression_model.predict(X_test)\n",
    "np.sqrt(metrics.mean_squared_error(y_test, y_pred))"
   ]
  },
  {
   "cell_type": "code",
   "execution_count": 15,
   "id": "8a7de21c",
   "metadata": {},
   "outputs": [
    {
     "name": "stdout",
     "output_type": "stream",
     "text": [
      "0.9995778248819204\n",
      "0.9989733032476905\n"
     ]
    }
   ],
   "source": [
    "print(regression_model.score(X_train, y_train))\n",
    "print(regression_model.score(X_test, y_test))"
   ]
  },
  {
   "cell_type": "code",
   "execution_count": 16,
   "id": "93f16067",
   "metadata": {},
   "outputs": [],
   "source": [
    "class CompareModel:\n",
    "    def __init__(self):\n",
    "        import pandas as pd\n",
    "        self._models = pd.DataFrame(\n",
    "            data=['r', 'R^2', 'RMSE'],\n",
    "            columns=['Model']\n",
    "        ).set_index(keys='Model')\n",
    "        \n",
    "    def add(self, model_name, y_test, y_pred):\n",
    "        import numpy as np\n",
    "        self._models[model_name] = np.array(\n",
    "            object=[\n",
    "                np.corrcoef(y_test, y_pred)[0, 1], # r\n",
    "                r2_score(y_true=y_test, y_pred=y_pred), # R^2\n",
    "                np.sqrt(mean_squared_error(y_true=y_test, y_pred=y_pred)) # RMSE\n",
    "                #np.sqrt(np.mean(((y_test-y_pred)/y_test)**2)), # RMSRE\n",
    "                #np.mean(np.abs((y_test-y_pred) / y_test)) * 100 # MAPE\n",
    "            ]\n",
    "        )\n",
    "        \n",
    "    def R2AndRMSE(y_test, y_pred):\n",
    "        from sklearn.metrics import r2_score, mean_squared_error\n",
    "        return r2_score(y_true=y_test, y_pred=y_pred), np.sqrt(mean_squared_error(y_true=y_test, y_pred=y_pred))\n",
    "    \n",
    "    @property\n",
    "    def models(self):\n",
    "        return self._models\n",
    "    \n",
    "    @models.setter\n",
    "    def models(self, _):\n",
    "        print('Cannot perform such task.')\n",
    "    \n",
    "    def show(self, **kwargs):\n",
    "        import matplotlib.pyplot as plt\n",
    "        kwargs['marker'] = kwargs.get('marker', 'X')\n",
    "        self._models.plot(**kwargs)\n",
    "        plt.xticks(range(len(self._models)), self._models.index)\n",
    "        plt.xlabel('')\n",
    "        plt.axis('auto')\n",
    "        plt.show()"
   ]
  },
  {
   "cell_type": "code",
   "execution_count": 17,
   "id": "82cc86f1",
   "metadata": {},
   "outputs": [
    {
     "data": {
      "text/plain": [
       "0.9989733032476905"
      ]
     },
     "execution_count": 17,
     "metadata": {},
     "output_type": "execute_result"
    }
   ],
   "source": [
    "# Metrics\n",
    "lr= CompareModel.R2AndRMSE(y_test=y_test, y_pred=y_pred)\n",
    "lr_r2 = r2_score(y_true=y_test, y_pred=y_pred)\n",
    "lr_r2"
   ]
  },
  {
   "cell_type": "code",
   "execution_count": 18,
   "id": "17e08561",
   "metadata": {},
   "outputs": [
    {
     "data": {
      "text/plain": [
       "0.6358418954505782"
      ]
     },
     "execution_count": 18,
     "metadata": {},
     "output_type": "execute_result"
    }
   ],
   "source": [
    "from sklearn.metrics import r2_score, mean_squared_error\n",
    "lr_rmse = np.sqrt(mean_squared_error(y_true=y_test, y_pred=y_pred))\n",
    "lr_rmse"
   ]
  },
  {
   "cell_type": "code",
   "execution_count": 19,
   "id": "3b21042e",
   "metadata": {},
   "outputs": [],
   "source": [
    "from beautifultable import BeautifulTable\n",
    "table = BeautifulTable()\n",
    "table.column_headers = [\"Model Name\", \"r2\", \"RMSE\"]"
   ]
  },
  {
   "cell_type": "code",
   "execution_count": 20,
   "id": "3e2d963a",
   "metadata": {},
   "outputs": [
    {
     "name": "stdout",
     "output_type": "stream",
     "text": [
      "+-------------------+-------+-------+\n",
      "|    Model Name     |  r2   | RMSE  |\n",
      "+-------------------+-------+-------+\n",
      "| Linear Regression | 0.999 | 0.636 |\n",
      "+-------------------+-------+-------+\n"
     ]
    }
   ],
   "source": [
    "table1 = table.append_row([\"Linear Regression\", lr_r2,lr_rmse])\n",
    "print(table)"
   ]
  },
  {
   "cell_type": "code",
   "execution_count": 21,
   "id": "c471dca3",
   "metadata": {},
   "outputs": [
    {
     "data": {
      "image/png": "[encoded data removed]",
      "text/plain": [
       "<Figure size 648x360 with 1 Axes>"
      ]
     },
     "metadata": {
      "needs_background": "light"
     },
     "output_type": "display_data"
    }
   ],
   "source": [
    "plot = CompareModel()\n",
    "from sklearn.metrics import r2_score, mean_squared_error\n",
    "plot.add(model_name='Linear Regression', y_test=y_test, y_pred=y_pred)\n",
    "plot.show(figsize=(9, 5))"
   ]
  },
  {
   "cell_type": "markdown",
   "id": "dc68ee61",
   "metadata": {},
   "source": [
    "# Lasso Model"
   ]
  },
  {
   "cell_type": "code",
   "execution_count": 22,
   "id": "eda01436",
   "metadata": {},
   "outputs": [
    {
     "name": "stdout",
     "output_type": "stream",
     "text": [
      "The history saving thread hit an unexpected error (OperationalError('database is locked')).History will not be written to the database.\n"
     ]
    }
   ],
   "source": [
    "# Fitting training set to lasso regression model\n",
    "from sklearn.linear_model import Lasso\n",
    "\n",
    "\n",
    "lasso = Lasso(alpha=0.1)\n",
    "lasso.fit(X_train,y_train)\n",
    "\n",
    "\n",
    "# Predicting the yield\n",
    "y_pred = lasso.predict(X_test)"
   ]
  },
  {
   "cell_type": "code",
   "execution_count": 23,
   "id": "ce2a422b",
   "metadata": {},
   "outputs": [
    {
     "data": {
      "text/plain": [
       "(0.9985852576316788, 0.7463915703040603)"
      ]
     },
     "execution_count": 23,
     "metadata": {},
     "output_type": "execute_result"
    }
   ],
   "source": [
    "CompareModel.R2AndRMSE(y_test=y_test, y_pred=y_pred)"
   ]
  },
  {
   "cell_type": "code",
   "execution_count": 24,
   "id": "ed9d5295",
   "metadata": {},
   "outputs": [],
   "source": [
    "lasso_r2 = r2_score(y_true=y_test, y_pred=y_pred)\n",
    "lasso_rmse = np.sqrt(mean_squared_error(y_true=y_test, y_pred=y_pred))"
   ]
  },
  {
   "cell_type": "code",
   "execution_count": 25,
   "id": "80ed4b18",
   "metadata": {},
   "outputs": [
    {
     "name": "stdout",
     "output_type": "stream",
     "text": [
      "+-------------------+-------+-------+\n",
      "|    Model Name     |  r2   | RMSE  |\n",
      "+-------------------+-------+-------+\n",
      "| Linear Regression | 0.999 | 0.636 |\n",
      "+-------------------+-------+-------+\n",
      "|       Lasso       | 0.999 | 0.746 |\n",
      "+-------------------+-------+-------+\n"
     ]
    }
   ],
   "source": [
    "table.append_row([\"Lasso\", lasso_r2,lasso_rmse])\n",
    "print(table)"
   ]
  },
  {
   "cell_type": "code",
   "execution_count": 26,
   "id": "e9cde772",
   "metadata": {},
   "outputs": [
    {
     "data": {
      "image/png": "[encoded data removed]",
      "text/plain": [
       "<Figure size 648x360 with 1 Axes>"
      ]
     },
     "metadata": {
      "needs_background": "light"
     },
     "output_type": "display_data"
    }
   ],
   "source": [
    "plot.add('Lasso', y_test, y_pred)\n",
    "plot.show(figsize=(9, 5))"
   ]
  },
  {
   "cell_type": "markdown",
   "id": "dec75b79",
   "metadata": {},
   "source": [
    "# Ridge Model"
   ]
  },
  {
   "cell_type": "code",
   "execution_count": 27,
   "id": "00da88b8",
   "metadata": {},
   "outputs": [],
   "source": [
    "from sklearn.linear_model import Ridge\n",
    "ridge = Ridge(alpha=.1)\n",
    "ridge.fit(X_train,y_train)\n",
    "y_pred = ridge.predict(X_test)\n"
   ]
  },
  {
   "cell_type": "code",
   "execution_count": 28,
   "id": "c3dc6b9f",
   "metadata": {},
   "outputs": [
    {
     "data": {
      "text/plain": [
       "(0.9979788838030309, 0.8921208452248582)"
      ]
     },
     "execution_count": 28,
     "metadata": {},
     "output_type": "execute_result"
    }
   ],
   "source": [
    "CompareModel.R2AndRMSE(y_test=y_test, y_pred=y_pred)"
   ]
  },
  {
   "cell_type": "code",
   "execution_count": 29,
   "id": "64b374e3",
   "metadata": {},
   "outputs": [],
   "source": [
    "ridge_r2 = r2_score(y_true=y_test, y_pred=y_pred)\n",
    "ridge_rmse = np.sqrt(mean_squared_error(y_true=y_test, y_pred=y_pred))"
   ]
  },
  {
   "cell_type": "code",
   "execution_count": 30,
   "id": "03f06069",
   "metadata": {},
   "outputs": [
    {
     "name": "stdout",
     "output_type": "stream",
     "text": [
      "+-------------------+-------+-------+\n",
      "|    Model Name     |  r2   | RMSE  |\n",
      "+-------------------+-------+-------+\n",
      "| Linear Regression | 0.999 | 0.636 |\n",
      "+-------------------+-------+-------+\n",
      "|       Lasso       | 0.999 | 0.746 |\n",
      "+-------------------+-------+-------+\n",
      "|       Ridge       | 0.998 | 0.892 |\n",
      "+-------------------+-------+-------+\n"
     ]
    }
   ],
   "source": [
    "table.append_row([\"Ridge\", ridge_r2,ridge_rmse])\n",
    "print(table)"
   ]
  },
  {
   "cell_type": "code",
   "execution_count": 31,
   "id": "f5deaa58",
   "metadata": {},
   "outputs": [
    {
     "data": {
      "image/png": "[encoded data removed]",
      "text/plain": [
       "<Figure size 648x360 with 1 Axes>"
      ]
     },
     "metadata": {
      "needs_background": "light"
     },
     "output_type": "display_data"
    }
   ],
   "source": [
    "plot.add('Ridge', y_test, y_pred)\n",
    "plot.show(figsize=(9, 5))"
   ]
  },
  {
   "cell_type": "markdown",
   "id": "217f690e",
   "metadata": {},
   "source": [
    "# Random Forest"
   ]
  },
  {
   "cell_type": "code",
   "execution_count": 32,
   "id": "8a527690",
   "metadata": {},
   "outputs": [],
   "source": [
    "# Fitting Random Forest model to the dataset\n",
    "from sklearn.ensemble import RandomForestRegressor\n",
    "rfr = RandomForestRegressor(n_estimators=10, random_state=10, n_jobs=-1)\n",
    "rfr.fit(X_train, y_train)\n",
    "\n",
    "# Predicting the yield\n",
    "y_pred = rfr.predict(X_test)"
   ]
  },
  {
   "cell_type": "code",
   "execution_count": 33,
   "id": "9d65597c",
   "metadata": {},
   "outputs": [
    {
     "data": {
      "text/plain": [
       "(0.9995060538266842, 0.44102972200798896)"
      ]
     },
     "execution_count": 33,
     "metadata": {},
     "output_type": "execute_result"
    }
   ],
   "source": [
    "CompareModel.R2AndRMSE(y_test=y_test, y_pred=y_pred)"
   ]
  },
  {
   "cell_type": "code",
   "execution_count": 34,
   "id": "400048be",
   "metadata": {},
   "outputs": [
    {
     "name": "stdout",
     "output_type": "stream",
     "text": [
      "+-------------------+-------+-------+\n",
      "|    Model Name     |  r2   | RMSE  |\n",
      "+-------------------+-------+-------+\n",
      "| Linear Regression | 0.999 | 0.636 |\n",
      "+-------------------+-------+-------+\n",
      "|       Lasso       | 0.999 | 0.746 |\n",
      "+-------------------+-------+-------+\n",
      "|       Ridge       | 0.998 | 0.892 |\n",
      "+-------------------+-------+-------+\n",
      "|   Random Forest   |  1.0  | 0.441 |\n",
      "+-------------------+-------+-------+\n"
     ]
    }
   ],
   "source": [
    "rf_r2 = r2_score(y_true=y_test, y_pred=y_pred)\n",
    "rf_rmse = np.sqrt(mean_squared_error(y_true=y_test, y_pred=y_pred))\n",
    "table.append_row([\"Random Forest\", rf_r2,rf_rmse])\n",
    "print(table)"
   ]
  },
  {
   "cell_type": "code",
   "execution_count": 35,
   "id": "091b2a04",
   "metadata": {},
   "outputs": [
    {
     "data": {
      "image/png": "[encoded data removed]",
      "text/plain": [
       "<Figure size 792x360 with 1 Axes>"
      ]
     },
     "metadata": {
      "needs_background": "light"
     },
     "output_type": "display_data"
    }
   ],
   "source": [
    "plot.add('Random Forest', y_test, y_pred)\n",
    "plot.show(figsize=(11, 5))"
   ]
  },
  {
   "cell_type": "markdown",
   "id": "20861d73",
   "metadata": {},
   "source": [
    "# XGBoost"
   ]
  },
  {
   "cell_type": "code",
   "execution_count": 36,
   "id": "7a0bb1a9",
   "metadata": {},
   "outputs": [
    {
     "name": "stdout",
     "output_type": "stream",
     "text": [
      "[13:43:18] WARNING: d:\\bld\\xgboost-split_1645118015404\\work\\src\\objective\\regression_obj.cu:188: reg:linear is now deprecated in favor of reg:squarederror.\n",
      "[13:43:18] WARNING: D:\\bld\\xgboost-split_1645118015404\\work\\src\\learner.cc:576: \n",
      "Parameters: { \"silent\", \"verbose\" } might not be used.\n",
      "\n",
      "  This could be a false alarm, with some parameters getting used by language bindings but\n",
      "  then being mistakenly passed down to XGBoost core, or some parameter actually being used\n",
      "  but getting flagged wrongly here. Please open an issue if you find any such cases.\n",
      "\n",
      "\n"
     ]
    }
   ],
   "source": [
    "# Fitting XGBoost to the dataset  (reg:squarederror)\n",
    "from xgboost import XGBRegressor\n",
    "xgb = XGBRegressor(n_jobs=4, silent=False, objective='reg:linear',\n",
    "                   max_depth=3, random_state=1, n_estimators=100,\n",
    "                   learning_rate=0.3, verbose=True)\n",
    "xgb.fit(X_train, y_train)\n",
    "\n",
    "# Predicting the yield\n",
    "y_pred = xgb.predict(X_test)"
   ]
  },
  {
   "cell_type": "code",
   "execution_count": 37,
   "id": "58070623",
   "metadata": {},
   "outputs": [
    {
     "data": {
      "text/plain": [
       "(0.9994535318986365, 0.46388513296794043)"
      ]
     },
     "execution_count": 37,
     "metadata": {},
     "output_type": "execute_result"
    }
   ],
   "source": [
    "CompareModel.R2AndRMSE(y_test=y_test, y_pred=y_pred)"
   ]
  },
  {
   "cell_type": "code",
   "execution_count": 38,
   "id": "60ac82f5",
   "metadata": {},
   "outputs": [],
   "source": [
    "XGBoost_r2 = r2_score(y_true=y_test, y_pred=y_pred)\n",
    "XGBoost_rmse = np.sqrt(mean_squared_error(y_true=y_test, y_pred=y_pred))"
   ]
  },
  {
   "cell_type": "code",
   "execution_count": 39,
   "id": "4b481714",
   "metadata": {},
   "outputs": [
    {
     "name": "stdout",
     "output_type": "stream",
     "text": [
      "+-------------------+-------+-------+\n",
      "|    Model Name     |  r2   | RMSE  |\n",
      "+-------------------+-------+-------+\n",
      "| Linear Regression | 0.999 | 0.636 |\n",
      "+-------------------+-------+-------+\n",
      "|       Lasso       | 0.999 | 0.746 |\n",
      "+-------------------+-------+-------+\n",
      "|       Ridge       | 0.998 | 0.892 |\n",
      "+-------------------+-------+-------+\n",
      "|   Random Forest   |  1.0  | 0.441 |\n",
      "+-------------------+-------+-------+\n",
      "|      XGBoost      | 0.999 | 0.464 |\n",
      "+-------------------+-------+-------+\n"
     ]
    }
   ],
   "source": [
    "table.append_row([\"XGBoost\", XGBoost_r2,XGBoost_rmse])\n",
    "print(table)"
   ]
  },
  {
   "cell_type": "code",
   "execution_count": 40,
   "id": "aae5f287",
   "metadata": {},
   "outputs": [
    {
     "data": {
      "image/png": "[encoded data removed]",
      "text/plain": [
       "<Figure size 792x360 with 1 Axes>"
      ]
     },
     "metadata": {
      "needs_background": "light"
     },
     "output_type": "display_data"
    }
   ],
   "source": [
    "plot.add('XGBoost', y_test, y_pred)\n",
    "plot.show(figsize=(11, 5))"
   ]
  },
  {
   "cell_type": "markdown",
   "id": "a67df7ee",
   "metadata": {},
   "source": [
    "# Voting Regression"
   ]
  },
  {
   "cell_type": "code",
   "execution_count": 41,
   "id": "6c367b35",
   "metadata": {},
   "outputs": [],
   "source": [
    "# Fitting training set to voting regression model\n",
    "from sklearn.ensemble import VotingRegressor\n",
    "vr = VotingRegressor(estimators=[('LinReg', regression_model),\n",
    "                                 ('RanFor', rfr),\n",
    "                                 ('XGBoost', xgb)\n",
    "                                ],\n",
    "                     n_jobs=-1,\n",
    "                     weights=[4, 2, 3])\n",
    "vr.fit(X_train, y_train)\n",
    "\n",
    "# Predicting the yield\n",
    "y_pred = vr.predict(X_test)"
   ]
  },
  {
   "cell_type": "code",
   "execution_count": 42,
   "id": "1d8f50c3",
   "metadata": {},
   "outputs": [
    {
     "data": {
      "text/plain": [
       "(0.9996052501974371, 0.39426570939717126)"
      ]
     },
     "execution_count": 42,
     "metadata": {},
     "output_type": "execute_result"
    }
   ],
   "source": [
    "CompareModel.R2AndRMSE(y_test=y_test, y_pred=y_pred)"
   ]
  },
  {
   "cell_type": "code",
   "execution_count": 43,
   "id": "f0dcfcb2",
   "metadata": {},
   "outputs": [],
   "source": [
    "vr_r2 = r2_score(y_true=y_test, y_pred=y_pred)\n",
    "vr_rmse = np.sqrt(mean_squared_error(y_true=y_test, y_pred=y_pred))"
   ]
  },
  {
   "cell_type": "code",
   "execution_count": 44,
   "id": "48d1a27e",
   "metadata": {},
   "outputs": [
    {
     "name": "stdout",
     "output_type": "stream",
     "text": [
      "+-------------------+-------+-------+\n",
      "|    Model Name     |  r2   | RMSE  |\n",
      "+-------------------+-------+-------+\n",
      "| Linear Regression | 0.999 | 0.636 |\n",
      "+-------------------+-------+-------+\n",
      "|       Lasso       | 0.999 | 0.746 |\n",
      "+-------------------+-------+-------+\n",
      "|       Ridge       | 0.998 | 0.892 |\n",
      "+-------------------+-------+-------+\n",
      "|   Random Forest   |  1.0  | 0.441 |\n",
      "+-------------------+-------+-------+\n",
      "|      XGBoost      | 0.999 | 0.464 |\n",
      "+-------------------+-------+-------+\n",
      "| Voting Regression |  1.0  | 0.394 |\n",
      "+-------------------+-------+-------+\n"
     ]
    },
    {
     "data": {
      "image/png": "[encoded data removed]",
      "text/plain": [
       "<Figure size 792x288 with 1 Axes>"
      ]
     },
     "metadata": {
      "needs_background": "light"
     },
     "output_type": "display_data"
    }
   ],
   "source": [
    "table.append_row([\"Voting Regression\", vr_r2,vr_rmse])\n",
    "print(table)\n",
    "plot.add('Voting Regression', y_test, y_pred)\n",
    "plot.show(figsize=(11,4))"
   ]
  }
 ],
 "metadata": {
  "kernelspec": {
   "display_name": "Python 3 (ipykernel)",
   "language": "python",
   "name": "python3"
  },
  "language_info": {
   "codemirror_mode": {
    "name": "ipython",
    "version": 3
   },
   "file_extension": ".py",
   "mimetype": "text/x-python",
   "name": "python",
   "nbconvert_exporter": "python",
   "pygments_lexer": "ipython3",
   "version": "3.9.7"
  }
 },
 "nbformat": 4,
 "nbformat_minor": 5
}
